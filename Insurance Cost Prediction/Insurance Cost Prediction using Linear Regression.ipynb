{
 "cells": [
  {
   "cell_type": "markdown",
   "metadata": {},
   "source": [
    "# Insurance cost prediction using linear regression\n",
    "\n",
    "We're going to use information like a person's age, sex, BMI, no. of children and smoking habit to predict the price of yearly medical bills. This kind of model is useful for insurance companies to determine the yearly insurance premium for a person. The dataset for this problem is taken from [Kaggle](https://www.kaggle.com/mirichoi0218/insurance).\n",
    "\n",
    "\n",
    "We will create a model with the following steps:\n",
    "1. Download and explore the dataset\n",
    "2. Prepare the dataset for training\n",
    "3. Create a linear regression model\n",
    "4. Train the model to fit the data\n",
    "5. Make predictions using the trained model\n"
   ]
  },
  {
   "cell_type": "code",
   "execution_count": 1,
   "metadata": {},
   "outputs": [
    {
     "name": "stdout",
     "output_type": "stream",
     "text": [
      "Requirement already satisfied: numpy in /Users/nehamalcomfrancis/miniconda3/lib/python3.8/site-packages (1.18.5)\n",
      "Requirement already satisfied: matplotlib in /Users/nehamalcomfrancis/miniconda3/lib/python3.8/site-packages (3.3.2)\n",
      "Requirement already satisfied: pandas in /Users/nehamalcomfrancis/miniconda3/lib/python3.8/site-packages (1.1.4)\n",
      "Requirement already satisfied: torch in /Users/nehamalcomfrancis/miniconda3/lib/python3.8/site-packages (1.7.0)\n",
      "Requirement already satisfied: torchvision in /Users/nehamalcomfrancis/miniconda3/lib/python3.8/site-packages (0.8.1)\n",
      "Requirement already satisfied: torchaudio in /Users/nehamalcomfrancis/miniconda3/lib/python3.8/site-packages (0.7.0)\n",
      "Requirement already satisfied: kiwisolver>=1.0.1 in /Users/nehamalcomfrancis/miniconda3/lib/python3.8/site-packages (from matplotlib) (1.3.1)\n",
      "Requirement already satisfied: pillow>=6.2.0 in /Users/nehamalcomfrancis/miniconda3/lib/python3.8/site-packages (from matplotlib) (8.0.1)\n",
      "Requirement already satisfied: certifi>=2020.06.20 in /Users/nehamalcomfrancis/miniconda3/lib/python3.8/site-packages (from matplotlib) (2020.6.20)\n",
      "Requirement already satisfied: pyparsing!=2.0.4,!=2.1.2,!=2.1.6,>=2.0.3 in /Users/nehamalcomfrancis/miniconda3/lib/python3.8/site-packages (from matplotlib) (2.4.7)\n",
      "Requirement already satisfied: python-dateutil>=2.1 in /Users/nehamalcomfrancis/miniconda3/lib/python3.8/site-packages (from matplotlib) (2.8.1)\n",
      "Requirement already satisfied: cycler>=0.10 in /Users/nehamalcomfrancis/miniconda3/lib/python3.8/site-packages (from matplotlib) (0.10.0)\n",
      "Requirement already satisfied: pytz>=2017.2 in /Users/nehamalcomfrancis/miniconda3/lib/python3.8/site-packages (from pandas) (2020.4)\n",
      "Requirement already satisfied: future in /Users/nehamalcomfrancis/miniconda3/lib/python3.8/site-packages (from torch) (0.18.2)\n",
      "Requirement already satisfied: dataclasses in /Users/nehamalcomfrancis/miniconda3/lib/python3.8/site-packages (from torch) (0.6)\n",
      "Requirement already satisfied: typing-extensions in /Users/nehamalcomfrancis/miniconda3/lib/python3.8/site-packages (from torch) (3.7.4.3)\n",
      "Requirement already satisfied: six>=1.5 in /Users/nehamalcomfrancis/miniconda3/lib/python3.8/site-packages (from python-dateutil>=2.1->matplotlib) (1.14.0)\n"
     ]
    }
   ],
   "source": [
    "!pip install numpy matplotlib pandas torch torchvision torchaudio"
   ]
  },
  {
   "cell_type": "code",
   "execution_count": 2,
   "metadata": {},
   "outputs": [],
   "source": [
    "import torch\n",
    "import jovian\n",
    "import torchvision\n",
    "import torch.nn as nn\n",
    "import pandas as pd\n",
    "import seaborn as sns\n",
    "import matplotlib.pyplot as plt\n",
    "import torch.nn.functional as F\n",
    "from torchvision.datasets.utils import download_url\n",
    "from torch.utils.data import DataLoader, TensorDataset, random_split"
   ]
  },
  {
   "cell_type": "code",
   "execution_count": 3,
   "metadata": {},
   "outputs": [],
   "source": [
    "project_name='02-insurance-linear-regression' # will be used by jovian.commit"
   ]
  },
  {
   "cell_type": "markdown",
   "metadata": {},
   "source": [
    "## Step 1: Download and explore the data\n",
    "\n",
    "The `download_url` is a function from PyTorch to get the data as a CSV (comma-separated values) file. "
   ]
  },
  {
   "cell_type": "code",
   "execution_count": 4,
   "metadata": {},
   "outputs": [
    {
     "name": "stdout",
     "output_type": "stream",
     "text": [
      "Using downloaded and verified file: ./insurance.csv\n"
     ]
    }
   ],
   "source": [
    "DATASET_URL = \"https://hub.jovian.ml/wp-content/uploads/2020/05/insurance.csv\"\n",
    "DATA_FILENAME = \"insurance.csv\"\n",
    "download_url(DATASET_URL, '.')"
   ]
  },
  {
   "cell_type": "markdown",
   "metadata": {},
   "source": [
    "To load the dataset into memory, we'll use the `read_csv` function from the `pandas` library. The data will be loaded as a Pandas dataframe. "
   ]
  },
  {
   "cell_type": "code",
   "execution_count": 5,
   "metadata": {},
   "outputs": [
    {
     "data": {
      "text/html": [
       "<div>\n",
       "<style scoped>\n",
       "    .dataframe tbody tr th:only-of-type {\n",
       "        vertical-align: middle;\n",
       "    }\n",
       "\n",
       "    .dataframe tbody tr th {\n",
       "        vertical-align: top;\n",
       "    }\n",
       "\n",
       "    .dataframe thead th {\n",
       "        text-align: right;\n",
       "    }\n",
       "</style>\n",
       "<table border=\"1\" class=\"dataframe\">\n",
       "  <thead>\n",
       "    <tr style=\"text-align: right;\">\n",
       "      <th></th>\n",
       "      <th>age</th>\n",
       "      <th>sex</th>\n",
       "      <th>bmi</th>\n",
       "      <th>children</th>\n",
       "      <th>smoker</th>\n",
       "      <th>region</th>\n",
       "      <th>charges</th>\n",
       "    </tr>\n",
       "  </thead>\n",
       "  <tbody>\n",
       "    <tr>\n",
       "      <th>0</th>\n",
       "      <td>19</td>\n",
       "      <td>female</td>\n",
       "      <td>27.900</td>\n",
       "      <td>0</td>\n",
       "      <td>yes</td>\n",
       "      <td>southwest</td>\n",
       "      <td>16884.92400</td>\n",
       "    </tr>\n",
       "    <tr>\n",
       "      <th>1</th>\n",
       "      <td>18</td>\n",
       "      <td>male</td>\n",
       "      <td>33.770</td>\n",
       "      <td>1</td>\n",
       "      <td>no</td>\n",
       "      <td>southeast</td>\n",
       "      <td>1725.55230</td>\n",
       "    </tr>\n",
       "    <tr>\n",
       "      <th>2</th>\n",
       "      <td>28</td>\n",
       "      <td>male</td>\n",
       "      <td>33.000</td>\n",
       "      <td>3</td>\n",
       "      <td>no</td>\n",
       "      <td>southeast</td>\n",
       "      <td>4449.46200</td>\n",
       "    </tr>\n",
       "    <tr>\n",
       "      <th>3</th>\n",
       "      <td>33</td>\n",
       "      <td>male</td>\n",
       "      <td>22.705</td>\n",
       "      <td>0</td>\n",
       "      <td>no</td>\n",
       "      <td>northwest</td>\n",
       "      <td>21984.47061</td>\n",
       "    </tr>\n",
       "    <tr>\n",
       "      <th>4</th>\n",
       "      <td>32</td>\n",
       "      <td>male</td>\n",
       "      <td>28.880</td>\n",
       "      <td>0</td>\n",
       "      <td>no</td>\n",
       "      <td>northwest</td>\n",
       "      <td>3866.85520</td>\n",
       "    </tr>\n",
       "    <tr>\n",
       "      <th>5</th>\n",
       "      <td>31</td>\n",
       "      <td>female</td>\n",
       "      <td>25.740</td>\n",
       "      <td>0</td>\n",
       "      <td>no</td>\n",
       "      <td>southeast</td>\n",
       "      <td>3756.62160</td>\n",
       "    </tr>\n",
       "  </tbody>\n",
       "</table>\n",
       "</div>"
      ],
      "text/plain": [
       "   age     sex     bmi  children smoker     region      charges\n",
       "0   19  female  27.900         0    yes  southwest  16884.92400\n",
       "1   18    male  33.770         1     no  southeast   1725.55230\n",
       "2   28    male  33.000         3     no  southeast   4449.46200\n",
       "3   33    male  22.705         0     no  northwest  21984.47061\n",
       "4   32    male  28.880         0     no  northwest   3866.85520\n",
       "5   31  female  25.740         0     no  southeast   3756.62160"
      ]
     },
     "execution_count": 5,
     "metadata": {},
     "output_type": "execute_result"
    }
   ],
   "source": [
    "dataframe_raw=pd.read_csv(DATA_FILENAME)\n",
    "dataframe_raw.head(6)"
   ]
  },
  {
   "cell_type": "markdown",
   "metadata": {},
   "source": [
    "For the assignment I'm working on it requires a slight customization of the data so every taker of the course gets a slightly different version of the dataset."
   ]
  },
  {
   "cell_type": "code",
   "execution_count": 6,
   "metadata": {},
   "outputs": [],
   "source": [
    "my_name=\"nehamalcom\""
   ]
  },
  {
   "cell_type": "code",
   "execution_count": 7,
   "metadata": {},
   "outputs": [],
   "source": [
    "def customize_dataset(dataframe_raw,rand_str):\n",
    "    dataframe=dataframe_raw.copy(deep=True)\n",
    "    #drop some rows\n",
    "    dataframe=dataframe.sample(int(0.95*len(dataframe)),random_state=int(ord(rand_str[0])))\n",
    "    # scale input\n",
    "    dataframe.bmi = dataframe.bmi * ord(rand_str[1])/100.\n",
    "    # scale target\n",
    "    dataframe.charges = dataframe.charges * ord(rand_str[2])/100.\n",
    "    # drop column\n",
    "    if ord(rand_str[3]) % 2 == 1:\n",
    "        dataframe = dataframe.drop(['region'], axis=1)\n",
    "    return dataframe\n",
    "    "
   ]
  },
  {
   "cell_type": "code",
   "execution_count": 8,
   "metadata": {},
   "outputs": [
    {
     "data": {
      "text/html": [
       "<div>\n",
       "<style scoped>\n",
       "    .dataframe tbody tr th:only-of-type {\n",
       "        vertical-align: middle;\n",
       "    }\n",
       "\n",
       "    .dataframe tbody tr th {\n",
       "        vertical-align: top;\n",
       "    }\n",
       "\n",
       "    .dataframe thead th {\n",
       "        text-align: right;\n",
       "    }\n",
       "</style>\n",
       "<table border=\"1\" class=\"dataframe\">\n",
       "  <thead>\n",
       "    <tr style=\"text-align: right;\">\n",
       "      <th></th>\n",
       "      <th>age</th>\n",
       "      <th>sex</th>\n",
       "      <th>bmi</th>\n",
       "      <th>children</th>\n",
       "      <th>smoker</th>\n",
       "      <th>charges</th>\n",
       "    </tr>\n",
       "  </thead>\n",
       "  <tbody>\n",
       "    <tr>\n",
       "      <th>538</th>\n",
       "      <td>46</td>\n",
       "      <td>female</td>\n",
       "      <td>28.33050</td>\n",
       "      <td>1</td>\n",
       "      <td>no</td>\n",
       "      <td>8562.421400</td>\n",
       "    </tr>\n",
       "    <tr>\n",
       "      <th>1217</th>\n",
       "      <td>29</td>\n",
       "      <td>male</td>\n",
       "      <td>37.66290</td>\n",
       "      <td>2</td>\n",
       "      <td>no</td>\n",
       "      <td>4220.440744</td>\n",
       "    </tr>\n",
       "    <tr>\n",
       "      <th>837</th>\n",
       "      <td>56</td>\n",
       "      <td>female</td>\n",
       "      <td>28.59310</td>\n",
       "      <td>0</td>\n",
       "      <td>no</td>\n",
       "      <td>12124.027656</td>\n",
       "    </tr>\n",
       "    <tr>\n",
       "      <th>1082</th>\n",
       "      <td>38</td>\n",
       "      <td>male</td>\n",
       "      <td>20.14950</td>\n",
       "      <td>1</td>\n",
       "      <td>no</td>\n",
       "      <td>6090.138600</td>\n",
       "    </tr>\n",
       "    <tr>\n",
       "      <th>563</th>\n",
       "      <td>50</td>\n",
       "      <td>male</td>\n",
       "      <td>45.21770</td>\n",
       "      <td>1</td>\n",
       "      <td>no</td>\n",
       "      <td>9421.079512</td>\n",
       "    </tr>\n",
       "    <tr>\n",
       "      <th>1050</th>\n",
       "      <td>44</td>\n",
       "      <td>female</td>\n",
       "      <td>37.32455</td>\n",
       "      <td>1</td>\n",
       "      <td>no</td>\n",
       "      <td>8344.060868</td>\n",
       "    </tr>\n",
       "    <tr>\n",
       "      <th>696</th>\n",
       "      <td>53</td>\n",
       "      <td>female</td>\n",
       "      <td>32.62300</td>\n",
       "      <td>2</td>\n",
       "      <td>no</td>\n",
       "      <td>30353.941654</td>\n",
       "    </tr>\n",
       "    <tr>\n",
       "      <th>778</th>\n",
       "      <td>35</td>\n",
       "      <td>male</td>\n",
       "      <td>34.66320</td>\n",
       "      <td>3</td>\n",
       "      <td>no</td>\n",
       "      <td>6171.754992</td>\n",
       "    </tr>\n",
       "    <tr>\n",
       "      <th>594</th>\n",
       "      <td>41</td>\n",
       "      <td>male</td>\n",
       "      <td>40.66260</td>\n",
       "      <td>0</td>\n",
       "      <td>no</td>\n",
       "      <td>5937.530976</td>\n",
       "    </tr>\n",
       "    <tr>\n",
       "      <th>1213</th>\n",
       "      <td>52</td>\n",
       "      <td>female</td>\n",
       "      <td>33.63300</td>\n",
       "      <td>2</td>\n",
       "      <td>no</td>\n",
       "      <td>11239.112560</td>\n",
       "    </tr>\n",
       "  </tbody>\n",
       "</table>\n",
       "</div>"
      ],
      "text/plain": [
       "      age     sex       bmi  children smoker       charges\n",
       "538    46  female  28.33050         1     no   8562.421400\n",
       "1217   29    male  37.66290         2     no   4220.440744\n",
       "837    56  female  28.59310         0     no  12124.027656\n",
       "1082   38    male  20.14950         1     no   6090.138600\n",
       "563    50    male  45.21770         1     no   9421.079512\n",
       "1050   44  female  37.32455         1     no   8344.060868\n",
       "696    53  female  32.62300         2     no  30353.941654\n",
       "778    35    male  34.66320         3     no   6171.754992\n",
       "594    41    male  40.66260         0     no   5937.530976\n",
       "1213   52  female  33.63300         2     no  11239.112560"
      ]
     },
     "execution_count": 8,
     "metadata": {},
     "output_type": "execute_result"
    }
   ],
   "source": [
    "dataframe=customize_dataset(dataframe_raw,my_name)\n",
    "dataframe.head(10)"
   ]
  },
  {
   "cell_type": "markdown",
   "metadata": {},
   "source": [
    "Let us answer some basic questions about the dataset. \n",
    "\n",
    "\n",
    "**Q: How many rows does the dataset have?**"
   ]
  },
  {
   "cell_type": "code",
   "execution_count": 9,
   "metadata": {},
   "outputs": [
    {
     "name": "stdout",
     "output_type": "stream",
     "text": [
      "1271\n"
     ]
    }
   ],
   "source": [
    "num_rows=len(dataframe)\n",
    "print(num_rows)"
   ]
  },
  {
   "cell_type": "markdown",
   "metadata": {},
   "source": [
    "**Q: How many columns does the dataset have**"
   ]
  },
  {
   "cell_type": "code",
   "execution_count": 10,
   "metadata": {},
   "outputs": [
    {
     "name": "stdout",
     "output_type": "stream",
     "text": [
      "6\n"
     ]
    }
   ],
   "source": [
    "num_cols=len(dataframe.columns)\n",
    "print(num_cols)"
   ]
  },
  {
   "cell_type": "markdown",
   "metadata": {},
   "source": [
    "**Q: What are the column titles of the input variables?**"
   ]
  },
  {
   "cell_type": "code",
   "execution_count": 11,
   "metadata": {},
   "outputs": [
    {
     "data": {
      "text/plain": [
       "['age', 'sex', 'bmi', 'children', 'smoker']"
      ]
     },
     "execution_count": 11,
     "metadata": {},
     "output_type": "execute_result"
    }
   ],
   "source": [
    "input_cols=[title for title in dataframe.columns[:-1]]\n",
    "input_cols"
   ]
  },
  {
   "cell_type": "markdown",
   "metadata": {},
   "source": [
    "**Q: Which of the input columns are non-numeric or categorial variables ?**"
   ]
  },
  {
   "cell_type": "code",
   "execution_count": 12,
   "metadata": {},
   "outputs": [
    {
     "data": {
      "text/plain": [
       "['sex', 'smoker']"
      ]
     },
     "execution_count": 12,
     "metadata": {},
     "output_type": "execute_result"
    }
   ],
   "source": [
    "categorical_cols=[title for title in dataframe.select_dtypes(exclude=['number']).columns]\n",
    "categorical_cols"
   ]
  },
  {
   "cell_type": "markdown",
   "metadata": {},
   "source": [
    "**Q: What are the column titles of output/target variable(s)?**"
   ]
  },
  {
   "cell_type": "code",
   "execution_count": 13,
   "metadata": {},
   "outputs": [
    {
     "data": {
      "text/plain": [
       "['charges']"
      ]
     },
     "execution_count": 13,
     "metadata": {},
     "output_type": "execute_result"
    }
   ],
   "source": [
    "output_cols = [dataframe.columns[-1]]\n",
    "output_cols"
   ]
  },
  {
   "cell_type": "markdown",
   "metadata": {},
   "source": [
    "**Q: What is the minimum, maximum and average value of the `charges` column? Can you show the distribution of values in a graph?**"
   ]
  },
  {
   "cell_type": "code",
   "execution_count": 14,
   "metadata": {},
   "outputs": [
    {
     "data": {
      "text/plain": [
       "count     1271.000000\n",
       "mean     13763.113577\n",
       "std      12521.235806\n",
       "min       1166.748856\n",
       "25%       4942.447536\n",
       "50%       9753.020888\n",
       "75%      17111.433326\n",
       "max      65096.588014\n",
       "Name: charges, dtype: float64"
      ]
     },
     "execution_count": 14,
     "metadata": {},
     "output_type": "execute_result"
    }
   ],
   "source": [
    "dataframe['charges'].describe()"
   ]
  },
  {
   "cell_type": "code",
   "execution_count": 15,
   "metadata": {},
   "outputs": [
    {
     "data": {
      "text/plain": [
       "<seaborn.axisgrid.FacetGrid at 0x7fe0ee3d1040>"
      ]
     },
     "execution_count": 15,
     "metadata": {},
     "output_type": "execute_result"
    },
    {
     "data": {
      "image/png": "[encoded data removed]",
      "text/plain": [
       "<Figure size 360x360 with 1 Axes>"
      ]
     },
     "metadata": {
      "needs_background": "light"
     },
     "output_type": "display_data"
    }
   ],
   "source": [
    "sns.displot(dataframe,x=output_cols[0])"
   ]
  },
  {
   "cell_type": "code",
   "execution_count": 16,
   "metadata": {},
   "outputs": [],
   "source": [
    "!pip install jovian --upgrade -q"
   ]
  },
  {
   "cell_type": "code",
   "execution_count": 17,
   "metadata": {},
   "outputs": [],
   "source": [
    "import jovian"
   ]
  },
  {
   "cell_type": "code",
   "execution_count": 18,
   "metadata": {},
   "outputs": [
    {
     "data": {
      "application/javascript": [
       "window.require && require([\"base/js/namespace\"],function(Jupyter){Jupyter.notebook.save_checkpoint()})"
      ],
      "text/plain": [
       "<IPython.core.display.Javascript object>"
      ]
     },
     "metadata": {},
     "output_type": "display_data"
    },
    {
     "name": "stdout",
     "output_type": "stream",
     "text": [
      "[jovian] Attempting to save notebook..\u001b[0m\n",
      "[jovian] Updating notebook \"nehamalcom/02-insurance-linear-regression\" on https://jovian.ai/\u001b[0m\n",
      "[jovian] Uploading notebook..\u001b[0m\n",
      "[jovian] Capturing environment..\u001b[0m\n",
      "[jovian] Committed successfully! https://jovian.ai/nehamalcom/02-insurance-linear-regression\u001b[0m\n"
     ]
    },
    {
     "data": {
      "text/plain": [
       "'https://jovian.ai/nehamalcom/02-insurance-linear-regression'"
      ]
     },
     "execution_count": 18,
     "metadata": {},
     "output_type": "execute_result"
    }
   ],
   "source": [
    "jovian.commit()"
   ]
  },
  {
   "cell_type": "markdown",
   "metadata": {},
   "source": [
    "## Step 2: Prepare the dataset for training\n",
    "\n",
    "We need to convert the data from the Pandas dataframe into a PyTorch tensors for training. To do this, the first step is to convert it numpy arrays. If you've filled out `input_cols`, `categorial_cols` and `output_cols` correctly, this following function will perform the conversion to numpy arrays."
   ]
  },
  {
   "cell_type": "code",
   "execution_count": 19,
   "metadata": {},
   "outputs": [],
   "source": [
    "def dataframe_to_arrays(dataframe):\n",
    "    #make a copy of original df\n",
    "    df1=dataframe.copy(deep=True)\n",
    "    #convert non-numeric categorical columns to numbers\n",
    "    for col in categorical_cols:\n",
    "        df1[col]=df1[col].astype('category').cat.codes\n",
    "    #extract input and output as numpy arrays\n",
    "    inputs_array=df1[input_cols].to_numpy()\n",
    "    targets_array=df1[output_cols].to_numpy()\n",
    "    return inputs_array,targets_array"
   ]
  },
  {
   "cell_type": "code",
   "execution_count": 20,
   "metadata": {},
   "outputs": [
    {
     "data": {
      "text/plain": [
       "(array([[46.     ,  0.     , 28.3305 ,  1.     ,  0.     ],\n",
       "        [29.     ,  1.     , 37.6629 ,  2.     ,  0.     ],\n",
       "        [56.     ,  0.     , 28.5931 ,  0.     ,  0.     ],\n",
       "        ...,\n",
       "        [46.     ,  0.     , 20.1495 ,  2.     ,  0.     ],\n",
       "        [63.     ,  1.     , 41.73825,  3.     ,  0.     ],\n",
       "        [60.     ,  0.     , 28.987  ,  1.     ,  0.     ]]),\n",
       " array([[ 8562.4214  ],\n",
       "        [ 4220.440744],\n",
       "        [12124.027656],\n",
       "        ...,\n",
       "        [ 9561.59204 ],\n",
       "        [16177.3963  ],\n",
       "        [13753.68072 ]]))"
      ]
     },
     "execution_count": 20,
     "metadata": {},
     "output_type": "execute_result"
    }
   ],
   "source": [
    "inputs_array,targets_array=dataframe_to_arrays(dataframe)\n",
    "inputs_array,targets_array"
   ]
  },
  {
   "cell_type": "markdown",
   "metadata": {},
   "source": [
    "**Q: Convert the numpy arrays `inputs_array` and `targets_array` into PyTorch tensors. Make sure that the data type is `torch.float32`.**"
   ]
  },
  {
   "cell_type": "code",
   "execution_count": 21,
   "metadata": {},
   "outputs": [],
   "source": [
    "inputs=torch.tensor(inputs_array,dtype=torch.float32)\n",
    "targets=torch.tensor(targets_array,dtype=torch.float32)"
   ]
  },
  {
   "cell_type": "code",
   "execution_count": 22,
   "metadata": {},
   "outputs": [
    {
     "data": {
      "text/plain": [
       "(torch.float32, torch.float32)"
      ]
     },
     "execution_count": 22,
     "metadata": {},
     "output_type": "execute_result"
    }
   ],
   "source": [
    "inputs.dtype,targets.dtype"
   ]
  },
  {
   "cell_type": "markdown",
   "metadata": {},
   "source": [
    "Next, we need to create PyTorch datasets & data loaders for training & validation. We'll start by creating a `TensorDataset`."
   ]
  },
  {
   "cell_type": "code",
   "execution_count": 23,
   "metadata": {},
   "outputs": [],
   "source": [
    "dataset = TensorDataset(inputs, targets)"
   ]
  },
  {
   "cell_type": "markdown",
   "metadata": {},
   "source": [
    "**Q: Pick a number between `0.1` and `0.2` to determine the fraction of data that will be used for creating the validation set. Then use `random_split` to create training & validation datasets.**"
   ]
  },
  {
   "cell_type": "code",
   "execution_count": 24,
   "metadata": {},
   "outputs": [],
   "source": [
    "val_percent=0.1873\n",
    "val_size=int(num_rows*val_percent)\n",
    "train_size=num_rows-val_size\n",
    "\n",
    "train_ds,val_ds=random_split(dataset,[train_size,val_size])"
   ]
  },
  {
   "cell_type": "markdown",
   "metadata": {},
   "source": [
    "Finally, we can create data loaders for training & validation.\n",
    "\n",
    "**Q: Pick a batch size for the data loader.**"
   ]
  },
  {
   "cell_type": "code",
   "execution_count": 25,
   "metadata": {},
   "outputs": [],
   "source": [
    "batch_size=128"
   ]
  },
  {
   "cell_type": "code",
   "execution_count": 26,
   "metadata": {},
   "outputs": [],
   "source": [
    "train_loader = DataLoader(train_ds, batch_size, shuffle=True)\n",
    "val_loader = DataLoader(val_ds, batch_size)"
   ]
  },
  {
   "cell_type": "code",
   "execution_count": 27,
   "metadata": {},
   "outputs": [
    {
     "name": "stdout",
     "output_type": "stream",
     "text": [
      "inputs: tensor([[24.0000,  0.0000, 30.2243,  0.0000,  0.0000],\n",
      "        [34.0000,  1.0000, 28.1133,  1.0000,  1.0000],\n",
      "        [44.0000,  1.0000, 30.0324,  2.0000,  0.0000],\n",
      "        [30.0000,  0.0000, 33.6633,  1.0000,  0.0000],\n",
      "        [42.0000,  0.0000, 25.2348,  2.0000,  0.0000],\n",
      "        [63.0000,  0.0000, 36.6630,  0.0000,  0.0000],\n",
      "        [31.0000,  1.0000, 30.1081,  0.0000,  1.0000],\n",
      "        [32.0000,  1.0000, 33.9663,  1.0000,  1.0000],\n",
      "        [29.0000,  0.0000, 28.2194,  1.0000,  1.0000],\n",
      "        [49.0000,  0.0000, 22.8361,  1.0000,  0.0000],\n",
      "        [62.0000,  0.0000, 37.2286,  1.0000,  0.0000],\n",
      "        [36.0000,  0.0000, 22.3563,  3.0000,  0.0000],\n",
      "        [52.0000,  1.0000, 32.5271,  3.0000,  0.0000],\n",
      "        [18.0000,  1.0000, 34.7743,  0.0000,  0.0000],\n",
      "        [54.0000,  1.0000, 31.1080,  1.0000,  1.0000],\n",
      "        [24.0000,  1.0000, 32.3301,  0.0000,  0.0000],\n",
      "        [31.0000,  1.0000, 27.9214,  2.0000,  0.0000],\n",
      "        [19.0000,  0.0000, 32.4311,  0.0000,  0.0000],\n",
      "        [50.0000,  1.0000, 37.4407,  1.0000,  0.0000],\n",
      "        [56.0000,  1.0000, 36.4610,  3.0000,  0.0000],\n",
      "        [47.0000,  0.0000, 33.6785,  0.0000,  0.0000],\n",
      "        [41.0000,  1.0000, 34.5521,  1.0000,  0.0000],\n",
      "        [44.0000,  0.0000, 39.3395,  0.0000,  1.0000],\n",
      "        [18.0000,  0.0000, 40.2182,  0.0000,  0.0000],\n",
      "        [53.0000,  1.0000, 21.6140,  1.0000,  0.0000],\n",
      "        [50.0000,  0.0000, 28.1083,  3.0000,  0.0000],\n",
      "        [58.0000,  1.0000, 34.7339,  0.0000,  0.0000],\n",
      "        [60.0000,  1.0000, 37.3246,  0.0000,  0.0000],\n",
      "        [19.0000,  1.0000, 22.8361,  0.0000,  0.0000],\n",
      "        [46.0000,  0.0000, 34.0622,  1.0000,  0.0000],\n",
      "        [33.0000,  1.0000, 22.9321,  0.0000,  0.0000],\n",
      "        [34.0000,  0.0000, 32.2392,  1.0000,  1.0000],\n",
      "        [53.0000,  1.0000, 21.1090,  0.0000,  1.0000],\n",
      "        [23.0000,  0.0000, 24.4673,  2.0000,  0.0000],\n",
      "        [19.0000,  0.0000, 30.3202,  0.0000,  1.0000],\n",
      "        [19.0000,  0.0000, 28.8860,  5.0000,  0.0000],\n",
      "        [28.0000,  0.0000, 26.1943,  1.0000,  0.0000],\n",
      "        [25.0000,  1.0000, 26.4822,  0.0000,  0.0000],\n",
      "        [23.0000,  0.0000, 28.5931,  0.0000,  1.0000],\n",
      "        [37.0000,  1.0000, 34.4410,  4.0000,  1.0000],\n",
      "        [27.0000,  0.0000, 35.1480,  1.0000,  0.0000],\n",
      "        [18.0000,  0.0000, 30.4161,  0.0000,  0.0000],\n",
      "        [55.0000,  1.0000, 30.1990,  0.0000,  0.0000],\n",
      "        [48.0000,  1.0000, 29.8960,  0.0000,  0.0000],\n",
      "        [37.0000,  0.0000, 29.7950,  2.0000,  0.0000],\n",
      "        [41.0000,  0.0000, 28.3305,  1.0000,  0.0000],\n",
      "        [53.0000,  1.0000, 28.8860,  3.0000,  0.0000],\n",
      "        [47.0000,  1.0000, 36.5620,  1.0000,  0.0000],\n",
      "        [54.0000,  1.0000, 34.5521,  2.0000,  1.0000],\n",
      "        [52.0000,  1.0000, 38.9860,  2.0000,  0.0000],\n",
      "        [18.0000,  0.0000, 31.6635,  0.0000,  0.0000],\n",
      "        [28.0000,  1.0000, 22.7402,  2.0000,  0.0000],\n",
      "        [19.0000,  1.0000, 20.6292,  0.0000,  0.0000],\n",
      "        [21.0000,  1.0000, 23.9875,  2.0000,  0.0000],\n",
      "        [48.0000,  0.0000, 31.4413,  0.0000,  0.0000],\n",
      "        [21.0000,  0.0000, 16.9832,  1.0000,  0.0000],\n",
      "        [54.0000,  1.0000, 29.4920,  1.0000,  0.0000],\n",
      "        [27.0000,  1.0000, 29.4415,  0.0000,  1.0000],\n",
      "        [45.0000,  1.0000, 27.7750,  3.0000,  0.0000],\n",
      "        [60.0000,  1.0000, 33.4411,  3.0000,  0.0000],\n",
      "        [24.0000,  0.0000, 24.4673,  0.0000,  0.0000],\n",
      "        [19.0000,  0.0000, 18.7860,  0.0000,  0.0000],\n",
      "        [62.0000,  1.0000, 32.3352,  0.0000,  1.0000],\n",
      "        [34.0000,  1.0000, 42.5513,  2.0000,  0.0000],\n",
      "        [27.0000,  0.0000, 25.4268,  0.0000,  0.0000],\n",
      "        [49.0000,  0.0000, 21.5130,  1.0000,  0.0000],\n",
      "        [21.0000,  0.0000, 22.1089,  2.0000,  0.0000],\n",
      "        [62.0000,  1.0000, 37.7740,  0.0000,  0.0000],\n",
      "        [21.0000,  0.0000, 26.6640,  1.0000,  0.0000],\n",
      "        [40.0000,  1.0000, 31.1838,  4.0000,  0.0000],\n",
      "        [46.0000,  0.0000, 20.1495,  2.0000,  0.0000],\n",
      "        [27.0000,  0.0000, 24.3410,  0.0000,  0.0000],\n",
      "        [52.0000,  1.0000, 30.5020,  1.0000,  0.0000],\n",
      "        [43.0000,  0.0000, 27.1539,  0.0000,  1.0000],\n",
      "        [59.0000,  0.0000, 35.1480,  2.0000,  0.0000],\n",
      "        [33.0000,  1.0000, 25.0429,  0.0000,  1.0000],\n",
      "        [19.0000,  0.0000, 33.4411,  0.0000,  1.0000],\n",
      "        [31.0000,  1.0000, 28.7850,  5.0000,  0.0000],\n",
      "        [30.0000,  0.0000, 32.7240,  1.0000,  0.0000],\n",
      "        [20.0000,  0.0000, 22.6442,  0.0000,  1.0000],\n",
      "        [43.0000,  0.0000, 25.5227,  1.0000,  1.0000],\n",
      "        [57.0000,  0.0000, 30.7999,  0.0000,  0.0000],\n",
      "        [22.0000,  1.0000, 32.0473,  0.0000,  0.0000],\n",
      "        [29.0000,  1.0000, 30.0324,  2.0000,  0.0000],\n",
      "        [41.0000,  0.0000, 28.5931,  1.0000,  0.0000],\n",
      "        [28.0000,  1.0000, 24.0380,  2.0000,  0.0000],\n",
      "        [56.0000,  0.0000, 27.4720,  0.0000,  0.0000],\n",
      "        [36.0000,  1.0000, 29.1688,  3.0000,  0.0000],\n",
      "        [60.0000,  0.0000, 27.8255,  0.0000,  0.0000],\n",
      "        [18.0000,  1.0000, 33.8703,  0.0000,  1.0000],\n",
      "        [29.0000,  0.0000, 32.4311,  2.0000,  0.0000],\n",
      "        [52.0000,  0.0000, 32.0473,  2.0000,  0.0000],\n",
      "        [61.0000,  1.0000, 28.5931,  1.0000,  1.0000],\n",
      "        [19.0000,  1.0000, 30.5525,  0.0000,  1.0000],\n",
      "        [27.0000,  1.0000, 33.4865,  2.0000,  0.0000],\n",
      "        [25.0000,  0.0000, 27.0579,  2.0000,  0.0000],\n",
      "        [35.0000,  1.0000, 30.8050,  1.0000,  0.0000],\n",
      "        [19.0000,  1.0000, 35.2490,  0.0000,  1.0000],\n",
      "        [50.0000,  1.0000, 26.6741,  0.0000,  0.0000],\n",
      "        [19.0000,  0.0000, 24.7551,  1.0000,  0.0000],\n",
      "        [18.0000,  0.0000, 34.2188,  0.0000,  0.0000],\n",
      "        [35.0000,  0.0000, 36.1731,  1.0000,  0.0000],\n",
      "        [35.0000,  0.0000, 31.3100,  1.0000,  0.0000],\n",
      "        [29.0000,  1.0000, 29.9364,  1.0000,  0.0000],\n",
      "        [26.0000,  1.0000, 31.1838,  2.0000,  0.0000],\n",
      "        [56.0000,  0.0000, 28.8810,  0.0000,  0.0000],\n",
      "        [52.0000,  1.0000, 34.4410,  0.0000,  0.0000],\n",
      "        [30.0000,  1.0000, 31.7140,  1.0000,  0.0000],\n",
      "        [25.0000,  0.0000, 34.8298,  0.0000,  0.0000],\n",
      "        [57.0000,  0.0000, 23.4118,  0.0000,  0.0000],\n",
      "        [59.0000,  1.0000, 30.1283,  3.0000,  1.0000],\n",
      "        [59.0000,  0.0000, 26.9620,  3.0000,  0.0000],\n",
      "        [47.0000,  0.0000, 36.9963,  1.0000,  1.0000],\n",
      "        [19.0000,  0.0000, 30.7999,  0.0000,  0.0000],\n",
      "        [57.0000,  0.0000, 30.1081,  0.0000,  1.0000],\n",
      "        [59.0000,  0.0000, 26.7701,  0.0000,  0.0000],\n",
      "        [58.0000,  0.0000, 25.4520,  0.0000,  0.0000],\n",
      "        [45.0000,  0.0000, 38.6679,  0.0000,  0.0000],\n",
      "        [18.0000,  0.0000, 37.2185,  0.0000,  0.0000],\n",
      "        [18.0000,  1.0000, 27.6336,  1.0000,  1.0000],\n",
      "        [41.0000,  0.0000, 32.9260,  3.0000,  0.0000],\n",
      "        [19.0000,  0.0000, 26.0025,  1.0000,  0.0000],\n",
      "        [48.0000,  0.0000, 23.0280,  0.0000,  0.0000],\n",
      "        [59.0000,  1.0000, 25.7146,  0.0000,  0.0000],\n",
      "        [42.0000,  0.0000, 41.7383,  1.0000,  0.0000],\n",
      "        [56.0000,  1.0000, 33.9663,  0.0000,  1.0000],\n",
      "        [32.0000,  0.0000, 30.0980,  2.0000,  0.0000],\n",
      "        [43.0000,  1.0000, 38.4406,  2.0000,  1.0000]])\n",
      "targets: tensor([[ 2964.7112],\n",
      "        [20810.0195],\n",
      "        [33393.0078],\n",
      "        [ 4317.0698],\n",
      "        [ 8337.7432],\n",
      "        [14442.6924],\n",
      "        [20124.3828],\n",
      "        [39111.8281],\n",
      "        [19872.0898],\n",
      "        [ 9949.6709],\n",
      "        [32884.8008],\n",
      "        [ 7517.3442],\n",
      "        [11947.8496],\n",
      "        [ 1182.9685],\n",
      "        [43679.5000],\n",
      "        [ 2060.8452],\n",
      "        [ 5232.5205],\n",
      "        [ 2215.9028],\n",
      "        [ 9409.9482],\n",
      "        [12858.0889],\n",
      "        [21713.9355],\n",
      "        [ 6541.3452],\n",
      "        [44702.7969],\n",
      "        [ 1699.3203],\n",
      "        [10468.0293],\n",
      "        [20539.3594],\n",
      "        [12213.6914],\n",
      "        [13250.8145],\n",
      "        [ 1693.6097],\n",
      "        [ 9176.9453],\n",
      "        [22863.8496],\n",
      "        [39209.9531],\n",
      "        [22043.6504],\n",
      "        [23291.5742],\n",
      "        [34639.8516],\n",
      "        [ 4875.3091],\n",
      "        [ 4298.9873],\n",
      "        [ 2830.1736],\n",
      "        [18755.3262],\n",
      "        [41789.5352],\n",
      "        [ 3721.1189],\n",
      "        [22198.6406],\n",
      "        [10623.2217],\n",
      "        [22081.4688],\n",
      "        [ 6564.4302],\n",
      "        [ 7041.0000],\n",
      "        [11703.5576],\n",
      "        [ 8390.9121],\n",
      "        [46031.1797],\n",
      "        [10738.2139],\n",
      "        [ 1687.0760],\n",
      "        [ 4606.0435],\n",
      "        [ 1690.4510],\n",
      "        [ 3200.1792],\n",
      "        [ 8611.8477],\n",
      "        [ 3294.1541],\n",
      "        [10853.5400],\n",
      "        [18976.3555],\n",
      "        [ 8959.9121],\n",
      "        [14476.6162],\n",
      "        [ 2956.4712],\n",
      "        [ 1798.0529],\n",
      "        [47538.6172],\n",
      "        [ 5329.1562],\n",
      "        [ 3700.9651],\n",
      "        [ 9549.4570],\n",
      "        [ 3307.7305],\n",
      "        [13498.5322],\n",
      "        [ 2701.6902],\n",
      "        [ 8489.2246],\n",
      "        [ 9561.5918],\n",
      "        [ 3093.0911],\n",
      "        [10113.5107],\n",
      "        [22645.2949],\n",
      "        [38387.0312],\n",
      "        [18620.7090],\n",
      "        [35817.4492],\n",
      "        [ 7071.4365],\n",
      "        [ 4315.7256],\n",
      "        [15300.2139],\n",
      "        [22642.1953],\n",
      "        [12314.4062],\n",
      "        [ 2344.9885],\n",
      "        [18884.1914],\n",
      "        [ 7439.6963],\n",
      "        [ 4001.5811],\n",
      "        [11516.1035],\n",
      "        [ 7018.5347],\n",
      "        [13745.7783],\n",
      "        [36002.5547],\n",
      "        [ 5119.8325],\n",
      "        [11635.1631],\n",
      "        [30023.4102],\n",
      "        [33850.2734],\n",
      "        [ 4221.0610],\n",
      "        [ 4356.6777],\n",
      "        [ 4941.1128],\n",
      "        [36221.8008],\n",
      "        [ 9180.2979],\n",
      "        [ 2817.4763],\n",
      "        [11941.9404],\n",
      "        [ 5855.6763],\n",
      "        [ 5450.3955],\n",
      "        [21088.9199],\n",
      "        [ 4032.3965],\n",
      "        [12124.4395],\n",
      "        [ 9506.5889],\n",
      "        [ 3805.7197],\n",
      "        [ 3142.6814],\n",
      "        [12303.8311],\n",
      "        [31392.3340],\n",
      "        [14958.0176],\n",
      "        [44688.6484],\n",
      "        [ 2213.5684],\n",
      "        [28635.2695],\n",
      "        [13328.0625],\n",
      "        [12310.6465],\n",
      "        [ 8252.7031],\n",
      "        [ 1695.0269],\n",
      "        [17865.8301],\n",
      "        [ 8272.6973],\n",
      "        [ 2819.2617],\n",
      "        [ 8599.8057],\n",
      "        [12609.9922],\n",
      "        [ 7956.8047],\n",
      "        [45678.0312],\n",
      "        [ 5358.2192],\n",
      "        [44262.8477]])\n"
     ]
    }
   ],
   "source": [
    "for xb, yb in train_loader:\n",
    "    print(\"inputs:\", xb)\n",
    "    print(\"targets:\", yb)\n",
    "    break"
   ]
  },
  {
   "cell_type": "code",
   "execution_count": 28,
   "metadata": {},
   "outputs": [
    {
     "data": {
      "application/javascript": [
       "window.require && require([\"base/js/namespace\"],function(Jupyter){Jupyter.notebook.save_checkpoint()})"
      ],
      "text/plain": [
       "<IPython.core.display.Javascript object>"
      ]
     },
     "metadata": {},
     "output_type": "display_data"
    },
    {
     "name": "stdout",
     "output_type": "stream",
     "text": [
      "[jovian] Attempting to save notebook..\u001b[0m\n",
      "[jovian] Updating notebook \"nehamalcom/02-insurance-linear-regression\" on https://jovian.ai/\u001b[0m\n",
      "[jovian] Uploading notebook..\u001b[0m\n",
      "[jovian] Committed successfully! https://jovian.ai/nehamalcom/02-insurance-linear-regression\u001b[0m\n"
     ]
    },
    {
     "data": {
      "text/plain": [
       "'https://jovian.ai/nehamalcom/02-insurance-linear-regression'"
      ]
     },
     "execution_count": 28,
     "metadata": {},
     "output_type": "execute_result"
    }
   ],
   "source": [
    "jovian.commit(project=project_name, environment=None)"
   ]
  },
  {
   "cell_type": "markdown",
   "metadata": {},
   "source": [
    "## Step 3: Create a Linear Regression Model\n",
    "\n",
    "Our model itself is a fairly straightforward linear regression (we'll build more complex models in the next assignment). \n",
    "\n"
   ]
  },
  {
   "cell_type": "code",
   "execution_count": 29,
   "metadata": {},
   "outputs": [],
   "source": [
    "input_size = len(input_cols)\n",
    "output_size = len(output_cols)"
   ]
  },
  {
   "cell_type": "markdown",
   "metadata": {},
   "source": [
    "**Q: Complete the class definition below by filling out the constructor (`__init__`), `forward`, `training_step` and `validation_step` methods.**"
   ]
  },
  {
   "cell_type": "code",
   "execution_count": 52,
   "metadata": {},
   "outputs": [],
   "source": [
    "class InsuranceModel(nn.Module):\n",
    "    def __init__(self):\n",
    "        super().__init__()\n",
    "        self.linear = nn.Linear(input_size, output_size)                  # fill this (hint: use input_size & output_size defined above)\n",
    "        \n",
    "    def forward(self, xb):\n",
    "        out = self.linear(xb)                   # fill this\n",
    "        return out\n",
    "    \n",
    "    def training_step(self, batch):\n",
    "        inputs, targets = batch \n",
    "        # Generate predictions\n",
    "        out = self(inputs)          \n",
    "        # Calcuate loss\n",
    "        loss = F.mse_loss(out, targets)                          # fill this\n",
    "        return loss\n",
    "    \n",
    "    def validation_step(self, batch):\n",
    "        inputs, targets = batch\n",
    "        # Generate predictions\n",
    "        out = self(inputs)\n",
    "        # Calculate loss\n",
    "        loss = F.mse_loss(out, targets)                           # fill this    \n",
    "        return {'val_loss': loss.detach()}\n",
    "        \n",
    "    def validation_epoch_end(self, outputs):\n",
    "        batch_losses = [x['val_loss'] for x in outputs]\n",
    "        epoch_loss = torch.stack(batch_losses).mean()   # Combine losses\n",
    "        return {'val_loss': epoch_loss.item()}\n",
    "    \n",
    "    def epoch_end(self, epoch, result, num_epochs):\n",
    "        # Print result every 20th epoch\n",
    "        if (epoch+1) % 1000 == 0 or epoch == num_epochs-1:\n",
    "            print(\"Epoch [{}], val_loss: {:.4f}\".format(epoch+1, result['val_loss']))"
   ]
  },
  {
   "cell_type": "code",
   "execution_count": 53,
   "metadata": {},
   "outputs": [],
   "source": [
    "model=InsuranceModel()"
   ]
  },
  {
   "cell_type": "code",
   "execution_count": 54,
   "metadata": {},
   "outputs": [
    {
     "data": {
      "text/plain": [
       "[Parameter containing:\n",
       " tensor([[-0.2648, -0.1371,  0.3532, -0.3923, -0.0530]], requires_grad=True),\n",
       " Parameter containing:\n",
       " tensor([-0.3536], requires_grad=True)]"
      ]
     },
     "execution_count": 54,
     "metadata": {},
     "output_type": "execute_result"
    }
   ],
   "source": [
    "list(model.parameters())"
   ]
  },
  {
   "cell_type": "code",
   "execution_count": 55,
   "metadata": {},
   "outputs": [
    {
     "data": {
      "application/javascript": [
       "window.require && require([\"base/js/namespace\"],function(Jupyter){Jupyter.notebook.save_checkpoint()})"
      ],
      "text/plain": [
       "<IPython.core.display.Javascript object>"
      ]
     },
     "metadata": {},
     "output_type": "display_data"
    },
    {
     "name": "stdout",
     "output_type": "stream",
     "text": [
      "[jovian] Attempting to save notebook..\u001b[0m\n",
      "[jovian] Updating notebook \"nehamalcom/02-insurance-linear-regression\" on https://jovian.ai/\u001b[0m\n",
      "[jovian] Uploading notebook..\u001b[0m\n",
      "[jovian] Committed successfully! https://jovian.ai/nehamalcom/02-insurance-linear-regression\u001b[0m\n"
     ]
    },
    {
     "data": {
      "text/plain": [
       "'https://jovian.ai/nehamalcom/02-insurance-linear-regression'"
      ]
     },
     "execution_count": 55,
     "metadata": {},
     "output_type": "execute_result"
    }
   ],
   "source": [
    "jovian.commit(project=project_name, environment=None)"
   ]
  },
  {
   "cell_type": "markdown",
   "metadata": {},
   "source": [
    "## Step 4: Train the model to fit the data\n",
    "\n",
    "We will use the fit function."
   ]
  },
  {
   "cell_type": "code",
   "execution_count": 56,
   "metadata": {},
   "outputs": [],
   "source": [
    "def evaluate(model, val_loader):\n",
    "    outputs = [model.validation_step(batch) for batch in val_loader]\n",
    "    return model.validation_epoch_end(outputs)\n",
    "\n",
    "def fit(epochs, lr, model, train_loader, val_loader, opt_func=torch.optim.SGD):\n",
    "    history = []\n",
    "    optimizer = opt_func(model.parameters(), lr)\n",
    "    for epoch in range(epochs):\n",
    "        # Training Phase \n",
    "        for batch in train_loader:\n",
    "            loss = model.training_step(batch)\n",
    "            loss.backward()\n",
    "            optimizer.step()\n",
    "            optimizer.zero_grad()\n",
    "        # Validation phase\n",
    "        result = evaluate(model, val_loader)\n",
    "        model.epoch_end(epoch, result, epochs)\n",
    "        history.append(result)\n",
    "    return history"
   ]
  },
  {
   "cell_type": "markdown",
   "metadata": {},
   "source": [
    "**Q: Use the evaluate function to calculate the loss on the validation set before training.**"
   ]
  },
  {
   "cell_type": "code",
   "execution_count": 57,
   "metadata": {},
   "outputs": [
    {
     "name": "stdout",
     "output_type": "stream",
     "text": [
      "{'val_loss': 422140928.0}\n"
     ]
    }
   ],
   "source": [
    "result=evaluate(model,val_loader)\n",
    "print(result)"
   ]
  },
  {
   "cell_type": "markdown",
   "metadata": {},
   "source": [
    "We are now ready to train the model. You may need to run the training loop many times, for different number of epochs and with different learning rates, to get a good result. Also, if your loss becomes too large (or nan), you may have to re-initialize the model by running the cell model = InsuranceModel(). Experiment with this for a while, and try to get to as low a loss as possible."
   ]
  },
  {
   "cell_type": "markdown",
   "metadata": {},
   "source": [
    "**Q: Train the model 4-5 times with different learning rates & for different number of epochs.**\n",
    "Hint: Vary learning rates by orders of 10 (e.g. 1e-2, 1e-3, 1e-4, 1e-5, 1e-6) to figure out what works."
   ]
  },
  {
   "cell_type": "code",
   "execution_count": 58,
   "metadata": {},
   "outputs": [
    {
     "name": "stdout",
     "output_type": "stream",
     "text": [
      "Epoch [1000], val_loss: 170423520.0000\n"
     ]
    }
   ],
   "source": [
    "epochs = 1000\n",
    "lr = 1e-5\n",
    "history1 = fit(epochs, lr, model, train_loader, val_loader)"
   ]
  },
  {
   "cell_type": "code",
   "execution_count": 59,
   "metadata": {},
   "outputs": [
    {
     "name": "stdout",
     "output_type": "stream",
     "text": [
      "Epoch [1000], val_loss: 164340128.0000\n",
      "Epoch [2000], val_loss: 159109072.0000\n",
      "Epoch [3000], val_loss: 153090880.0000\n",
      "Epoch [4000], val_loss: 147632272.0000\n",
      "Epoch [5000], val_loss: 142739808.0000\n",
      "Epoch [6000], val_loss: 137318272.0000\n",
      "Epoch [7000], val_loss: 133077528.0000\n",
      "Epoch [8000], val_loss: 129857504.0000\n",
      "Epoch [9000], val_loss: 124457280.0000\n",
      "Epoch [10000], val_loss: 121629264.0000\n"
     ]
    }
   ],
   "source": [
    "epochs = 10000\n",
    "lr = 1e-5\n",
    "history2 = fit(epochs, lr, model, train_loader, val_loader)"
   ]
  },
  {
   "cell_type": "code",
   "execution_count": 60,
   "metadata": {},
   "outputs": [
    {
     "name": "stdout",
     "output_type": "stream",
     "text": [
      "Epoch [1000], val_loss: 117882600.0000\n",
      "Epoch [2000], val_loss: 113859984.0000\n",
      "Epoch [3000], val_loss: 111467752.0000\n",
      "Epoch [4000], val_loss: 107975952.0000\n",
      "Epoch [5000], val_loss: 105985616.0000\n",
      "Epoch [6000], val_loss: 101959056.0000\n",
      "Epoch [7000], val_loss: 99859824.0000\n",
      "Epoch [8000], val_loss: 96522160.0000\n",
      "Epoch [9000], val_loss: 94483944.0000\n",
      "Epoch [10000], val_loss: 92095896.0000\n",
      "Epoch [11000], val_loss: 89826152.0000\n",
      "Epoch [12000], val_loss: 87932632.0000\n",
      "Epoch [13000], val_loss: 85608504.0000\n",
      "Epoch [14000], val_loss: 83874488.0000\n",
      "Epoch [15000], val_loss: 81976784.0000\n",
      "Epoch [16000], val_loss: 80485008.0000\n",
      "Epoch [17000], val_loss: 78900560.0000\n",
      "Epoch [18000], val_loss: 77587216.0000\n",
      "Epoch [19000], val_loss: 75915968.0000\n",
      "Epoch [20000], val_loss: 74964880.0000\n",
      "Epoch [21000], val_loss: 73957280.0000\n",
      "Epoch [22000], val_loss: 72426088.0000\n",
      "Epoch [23000], val_loss: 70981344.0000\n",
      "Epoch [24000], val_loss: 69545920.0000\n",
      "Epoch [25000], val_loss: 68493048.0000\n",
      "Epoch [26000], val_loss: 67400512.0000\n",
      "Epoch [27000], val_loss: 66396756.0000\n",
      "Epoch [28000], val_loss: 66068484.0000\n",
      "Epoch [29000], val_loss: 64695456.0000\n",
      "Epoch [30000], val_loss: 64419108.0000\n"
     ]
    }
   ],
   "source": [
    "epochs = 30000\n",
    "lr = 1e-5\n",
    "history3 = fit(epochs, lr, model, train_loader, val_loader)"
   ]
  },
  {
   "cell_type": "code",
   "execution_count": 61,
   "metadata": {},
   "outputs": [
    {
     "name": "stdout",
     "output_type": "stream",
     "text": [
      "Epoch [1000], val_loss: 63804852.0000\n",
      "Epoch [2000], val_loss: 63729676.0000\n",
      "Epoch [3000], val_loss: 63584776.0000\n",
      "Epoch [4000], val_loss: 63586288.0000\n",
      "Epoch [5000], val_loss: 63518804.0000\n",
      "Epoch [6000], val_loss: 63516392.0000\n",
      "Epoch [7000], val_loss: 63427992.0000\n",
      "Epoch [8000], val_loss: 63288288.0000\n",
      "Epoch [9000], val_loss: 63104080.0000\n",
      "Epoch [10000], val_loss: 63125504.0000\n"
     ]
    }
   ],
   "source": [
    "epochs = 10000\n",
    "lr = 1e-6\n",
    "history4 = fit(epochs, lr, model, train_loader, val_loader)"
   ]
  },
  {
   "cell_type": "code",
   "execution_count": 62,
   "metadata": {},
   "outputs": [
    {
     "name": "stdout",
     "output_type": "stream",
     "text": [
      "Epoch [1000], val_loss: 59398336.0000\n",
      "Epoch [2000], val_loss: 52984364.0000\n",
      "Epoch [3000], val_loss: 51830504.0000\n",
      "Epoch [4000], val_loss: 49946668.0000\n",
      "Epoch [5000], val_loss: 48112276.0000\n",
      "Epoch [6000], val_loss: 46069256.0000\n",
      "Epoch [7000], val_loss: 45649952.0000\n",
      "Epoch [8000], val_loss: 50108884.0000\n",
      "Epoch [9000], val_loss: 46363008.0000\n",
      "Epoch [10000], val_loss: 45831336.0000\n"
     ]
    }
   ],
   "source": [
    "epochs = 10000\n",
    "lr = 1e-4\n",
    "history5 = fit(epochs, lr, model, train_loader, val_loader)"
   ]
  },
  {
   "cell_type": "markdown",
   "metadata": {},
   "source": [
    "**Q: What is the final validation loss of your model?**"
   ]
  },
  {
   "cell_type": "code",
   "execution_count": 64,
   "metadata": {},
   "outputs": [
    {
     "data": {
      "text/plain": [
       "45831336.0"
      ]
     },
     "execution_count": 64,
     "metadata": {},
     "output_type": "execute_result"
    }
   ],
   "source": [
    "val_loss = history5[-1]['val_loss']\n",
    "val_loss"
   ]
  },
  {
   "cell_type": "code",
   "execution_count": 65,
   "metadata": {},
   "outputs": [
    {
     "name": "stdout",
     "output_type": "stream",
     "text": [
      "[jovian] Metrics logged.\u001b[0m\n"
     ]
    }
   ],
   "source": [
    "jovian.log_metrics(val_loss=val_loss)"
   ]
  },
  {
   "cell_type": "code",
   "execution_count": 66,
   "metadata": {},
   "outputs": [
    {
     "data": {
      "application/javascript": [
       "window.require && require([\"base/js/namespace\"],function(Jupyter){Jupyter.notebook.save_checkpoint()})"
      ],
      "text/plain": [
       "<IPython.core.display.Javascript object>"
      ]
     },
     "metadata": {},
     "output_type": "display_data"
    },
    {
     "name": "stdout",
     "output_type": "stream",
     "text": [
      "[jovian] Attempting to save notebook..\u001b[0m\n",
      "[jovian] Updating notebook \"nehamalcom/02-insurance-linear-regression\" on https://jovian.ai/\u001b[0m\n",
      "[jovian] Uploading notebook..\u001b[0m\n",
      "[jovian] Attaching records (metrics, hyperparameters, dataset etc.)\u001b[0m\n",
      "[jovian] Committed successfully! https://jovian.ai/nehamalcom/02-insurance-linear-regression\u001b[0m\n"
     ]
    },
    {
     "data": {
      "text/plain": [
       "'https://jovian.ai/nehamalcom/02-insurance-linear-regression'"
      ]
     },
     "execution_count": 66,
     "metadata": {},
     "output_type": "execute_result"
    }
   ],
   "source": [
    "jovian.commit(project=project_name, environment=None)"
   ]
  },
  {
   "cell_type": "markdown",
   "metadata": {},
   "source": [
    "Now scroll back up, re-initialize the model, and try different set of values for batch size, number of epochs, learning rate etc. Commit each experiment and use the \"Compare\" and \"View Diff\" options on Jovian to compare the different results."
   ]
  },
  {
   "cell_type": "markdown",
   "metadata": {},
   "source": [
    "## Step 5: Make predictions using the trained model\n",
    "\n",
    "\n",
    "**Q: Complete the following function definition to make predictions on a single input**"
   ]
  },
  {
   "cell_type": "code",
   "execution_count": 68,
   "metadata": {},
   "outputs": [],
   "source": [
    "def predict_single(input, target, model):\n",
    "    inputs = input.unsqueeze(0)\n",
    "    predictions = model(inputs)               # fill this\n",
    "    prediction = predictions[0].detach()\n",
    "    print(\"Input:\", input)\n",
    "    print(\"Target:\", target)\n",
    "    print(\"Prediction:\", prediction)"
   ]
  },
  {
   "cell_type": "code",
   "execution_count": 69,
   "metadata": {},
   "outputs": [
    {
     "name": "stdout",
     "output_type": "stream",
     "text": [
      "Input: tensor([49.0000,  0.0000, 27.4417,  0.0000,  0.0000])\n",
      "Target: tensor([8945.3828])\n",
      "Prediction: tensor([9621.5801])\n"
     ]
    }
   ],
   "source": [
    "input, target = val_ds[0]\n",
    "predict_single(input, target, model)"
   ]
  },
  {
   "cell_type": "code",
   "execution_count": 70,
   "metadata": {},
   "outputs": [
    {
     "name": "stdout",
     "output_type": "stream",
     "text": [
      "Input: tensor([47.0000,  1.0000, 39.3294,  2.0000,  1.0000])\n",
      "Target: tensor([45970.7578])\n",
      "Prediction: tensor([34708.1523])\n"
     ]
    }
   ],
   "source": [
    "input, target = val_ds[10]\n",
    "predict_single(input, target, model)"
   ]
  },
  {
   "cell_type": "code",
   "execution_count": 71,
   "metadata": {},
   "outputs": [
    {
     "name": "stdout",
     "output_type": "stream",
     "text": [
      "Input: tensor([24.0000,  1.0000, 29.5930,  0.0000,  0.0000])\n",
      "Target: tensor([2056.9275])\n",
      "Prediction: tensor([3651.2861])\n"
     ]
    }
   ],
   "source": [
    "input, target = val_ds[23]\n",
    "predict_single(input, target, model)"
   ]
  },
  {
   "cell_type": "code",
   "execution_count": 72,
   "metadata": {},
   "outputs": [
    {
     "data": {
      "application/javascript": [
       "window.require && require([\"base/js/namespace\"],function(Jupyter){Jupyter.notebook.save_checkpoint()})"
      ],
      "text/plain": [
       "<IPython.core.display.Javascript object>"
      ]
     },
     "metadata": {},
     "output_type": "display_data"
    },
    {
     "name": "stdout",
     "output_type": "stream",
     "text": [
      "[jovian] Attempting to save notebook..\u001b[0m\n",
      "[jovian] Updating notebook \"nehamalcom/02-insurance-linear-regression\" on https://jovian.ai/\u001b[0m\n",
      "[jovian] Uploading notebook..\u001b[0m\n",
      "[jovian] Attaching records (metrics, hyperparameters, dataset etc.)\u001b[0m\n",
      "[jovian] Committed successfully! https://jovian.ai/nehamalcom/02-insurance-linear-regression\u001b[0m\n"
     ]
    },
    {
     "data": {
      "text/plain": [
       "'https://jovian.ai/nehamalcom/02-insurance-linear-regression'"
      ]
     },
     "execution_count": 72,
     "metadata": {},
     "output_type": "execute_result"
    }
   ],
   "source": [
    "jovian.commit(project=project_name, environment=None)"
   ]
  },
  {
   "cell_type": "code",
   "execution_count": null,
   "metadata": {},
   "outputs": [],
   "source": []
  }
 ],
 "metadata": {
  "kernelspec": {
   "display_name": "Python 3",
   "language": "python",
   "name": "python3"
  },
  "language_info": {
   "codemirror_mode": {
    "name": "ipython",
    "version": 3
   },
   "file_extension": ".py",
   "mimetype": "text/x-python",
   "name": "python",
   "nbconvert_exporter": "python",
   "pygments_lexer": "ipython3",
   "version": "3.8.3"
  }
 },
 "nbformat": 4,
 "nbformat_minor": 4
}
