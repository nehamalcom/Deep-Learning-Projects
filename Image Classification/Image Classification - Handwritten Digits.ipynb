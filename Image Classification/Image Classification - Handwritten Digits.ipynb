{
 "cells": [
  {
   "cell_type": "markdown",
   "metadata": {},
   "source": [
    "# Image Classification - Handwritten Digits\n",
    "\n",
    "We are going to use the MNIST Handwritten Digits Database as our training dataset."
   ]
  },
  {
   "cell_type": "code",
   "execution_count": 1,
   "metadata": {},
   "outputs": [],
   "source": [
    "#our dataset is present in the torchvision package\n",
    "import torch\n",
    "import torchvision\n",
    "from torchvision.datasets import MNIST"
   ]
  },
  {
   "cell_type": "code",
   "execution_count": 2,
   "metadata": {},
   "outputs": [],
   "source": [
    "#downloading the training dataset\n",
    "dataset=MNIST(root='data/',download=True)"
   ]
  },
  {
   "cell_type": "code",
   "execution_count": 3,
   "metadata": {},
   "outputs": [
    {
     "data": {
      "text/plain": [
       "60000"
      ]
     },
     "execution_count": 3,
     "metadata": {},
     "output_type": "execute_result"
    }
   ],
   "source": [
    "#the data is downloaded to the data/ directory next to the notebook and creates a pytorch dataset\n",
    "len(dataset)"
   ]
  },
  {
   "cell_type": "markdown",
   "metadata": {},
   "source": [
    "For training the dataset contains 60,000 images but it also has an additional 10,000 for testing. Let us create the testing dataset."
   ]
  },
  {
   "cell_type": "code",
   "execution_count": 4,
   "metadata": {},
   "outputs": [
    {
     "data": {
      "text/plain": [
       "10000"
      ]
     },
     "execution_count": 4,
     "metadata": {},
     "output_type": "execute_result"
    }
   ],
   "source": [
    "test_dataset=MNIST(root='data/',train=False)\n",
    "len(test_dataset)"
   ]
  },
  {
   "cell_type": "markdown",
   "metadata": {},
   "source": [
    "Let us look at a sample element from training dataset."
   ]
  },
  {
   "cell_type": "code",
   "execution_count": 5,
   "metadata": {},
   "outputs": [
    {
     "data": {
      "text/plain": [
       "(<PIL.Image.Image image mode=L size=28x28 at 0x7FD5426AF6D0>, 5)"
      ]
     },
     "execution_count": 5,
     "metadata": {},
     "output_type": "execute_result"
    }
   ],
   "source": [
    "dataset[0]"
   ]
  },
  {
   "cell_type": "markdown",
   "metadata": {},
   "source": [
    "This is a pair consisting of 28x28 pixels image and a label. The image is an object of the class PIL.Image.Image which is a part of the imaging library Pillow. We can view image using matplotlib."
   ]
  },
  {
   "cell_type": "code",
   "execution_count": 6,
   "metadata": {},
   "outputs": [],
   "source": [
    "import matplotlib.pyplot as plt\n",
    "%matplotlib inline\n",
    "#previous statement indicates that we want to plot the graphs within notebook not popup"
   ]
  },
  {
   "cell_type": "code",
   "execution_count": 7,
   "metadata": {},
   "outputs": [
    {
     "name": "stdout",
     "output_type": "stream",
     "text": [
      "Label:  5\n"
     ]
    },
    {
     "data": {
      "image/png": "[encoded data removed]",
      "text/plain": [
       "<Figure size 432x288 with 1 Axes>"
      ]
     },
     "metadata": {
      "needs_background": "light"
     },
     "output_type": "display_data"
    }
   ],
   "source": [
    "image,label=dataset[0]\n",
    "plt.imshow(image,cmap='gray')\n",
    "print('Label: ',label)"
   ]
  },
  {
   "cell_type": "code",
   "execution_count": 8,
   "metadata": {},
   "outputs": [
    {
     "name": "stdout",
     "output_type": "stream",
     "text": [
      "Label:  3\n"
     ]
    },
    {
     "data": {
      "image/png": "[encoded data removed]",
      "text/plain": [
       "<Figure size 432x288 with 1 Axes>"
      ]
     },
     "metadata": {
      "needs_background": "light"
     },
     "output_type": "display_data"
    }
   ],
   "source": [
    "image,label=dataset[10]\n",
    "plt.imshow(image,cmap='rainbow')\n",
    "print('Label: ',label)"
   ]
  },
  {
   "cell_type": "markdown",
   "metadata": {},
   "source": [
    "PyTorch does not work with images but with tensors. So we must convert our images to tensors using transforms."
   ]
  },
  {
   "cell_type": "code",
   "execution_count": 9,
   "metadata": {},
   "outputs": [],
   "source": [
    "import torchvision.transforms as transforms"
   ]
  },
  {
   "cell_type": "code",
   "execution_count": 10,
   "metadata": {},
   "outputs": [],
   "source": [
    "dataset=MNIST(root='data/',\n",
    "             train=True,\n",
    "             transform=transforms.ToTensor())"
   ]
  },
  {
   "cell_type": "code",
   "execution_count": 11,
   "metadata": {},
   "outputs": [
    {
     "name": "stdout",
     "output_type": "stream",
     "text": [
      "torch.Size([1, 28, 28]) 5\n"
     ]
    }
   ],
   "source": [
    "img_tensor,label=dataset[0]\n",
    "print(img_tensor.shape,label)"
   ]
  },
  {
   "cell_type": "markdown",
   "metadata": {},
   "source": [
    "So now the image is converted to a 1x28x28 tensor.\n",
    "   - The first dimernsion tracks color channels (grayscale=>1channel, color=>3channels(RGB))\n",
    "   - The second represent pixels along height\n",
    "   - The third represents pixels along width"
   ]
  },
  {
   "cell_type": "code",
   "execution_count": 12,
   "metadata": {},
   "outputs": [
    {
     "name": "stdout",
     "output_type": "stream",
     "text": [
      "tensor([[0.0039, 0.6039, 0.9922, 0.3529, 0.0000],\n",
      "        [0.0000, 0.5451, 0.9922, 0.7451, 0.0078],\n",
      "        [0.0000, 0.0431, 0.7451, 0.9922, 0.2745],\n",
      "        [0.0000, 0.0000, 0.1373, 0.9451, 0.8824],\n",
      "        [0.0000, 0.0000, 0.0000, 0.3176, 0.9412]])\n",
      "tensor(1.) tensor(0.)\n"
     ]
    }
   ],
   "source": [
    "print(img_tensor[0,10:15,10:15])\n",
    "print(torch.max(img_tensor),torch.min(img_tensor))"
   ]
  },
  {
   "cell_type": "markdown",
   "metadata": {},
   "source": [
    "Values range from 0 to 1. 0 representing black and 1 for white. Values for in between shades of grey. We can plot this tensor as an image using plt.imshow"
   ]
  },
  {
   "cell_type": "code",
   "execution_count": 13,
   "metadata": {},
   "outputs": [
    {
     "data": {
      "text/plain": [
       "<matplotlib.image.AxesImage at 0x7fd546a6a400>"
      ]
     },
     "execution_count": 13,
     "metadata": {},
     "output_type": "execute_result"
    },
    {
     "data": {
      "image/png": "[encoded data removed]",
      "text/plain": [
       "<Figure size 432x288 with 1 Axes>"
      ]
     },
     "metadata": {
      "needs_background": "light"
     },
     "output_type": "display_data"
    }
   ],
   "source": [
    "plt.imshow(img_tensor[0,10:15,10:15],cmap='gray')"
   ]
  },
  {
   "cell_type": "markdown",
   "metadata": {},
   "source": [
    "###  Training and Validation Datasets\n",
    "\n",
    "We split datasets into three parts commonly:\n",
    "\n",
    "    1. Training set to train the model and compute loss and adjust weights using gradient descent.\n",
    "    2. Validation set to evaluate the model during training and adjust hyperparameters such as learning rate and pick best version of model.\n",
    "    3. Testing set to compare different models and report model's final accuracy."
   ]
  },
  {
   "cell_type": "markdown",
   "metadata": {},
   "source": [
    "In MNIST dataset, there are 60,000 training and 10,000 test images. Since there is no validation set, we must manually split the 60,000 images from training into 50,000 training and 10,000 validation images. We can use the random_split method."
   ]
  },
  {
   "cell_type": "code",
   "execution_count": 14,
   "metadata": {},
   "outputs": [
    {
     "data": {
      "text/plain": [
       "(50000, 10000)"
      ]
     },
     "execution_count": 14,
     "metadata": {},
     "output_type": "execute_result"
    }
   ],
   "source": [
    "from torch.utils.data import random_split\n",
    "train_ds,val_ds=random_split(dataset,[50000,10000])\n",
    "len(train_ds),len(val_ds)"
   ]
  },
  {
   "cell_type": "markdown",
   "metadata": {},
   "source": [
    "Important to create validation set randomly as training data is often sorted by target labels.\n",
    "\n",
    "Now we will create data loaders to help us load data in batches. We will use batch size of 128"
   ]
  },
  {
   "cell_type": "code",
   "execution_count": 15,
   "metadata": {},
   "outputs": [],
   "source": [
    "from torch.utils.data import DataLoader\n",
    "batch_size=128\n",
    "\n",
    "train_loader=DataLoader(train_ds,batch_size,shuffle=True)\n",
    "val_loader=DataLoader(val_ds,batch_size)"
   ]
  },
  {
   "cell_type": "markdown",
   "metadata": {},
   "source": [
    "shuffle=True makes sure that the batches generated in each epoch are different. It helps generalize and speeden the training. Since validation data loader is only used for evaluating, no need for shuffle."
   ]
  },
  {
   "cell_type": "code",
   "execution_count": 16,
   "metadata": {},
   "outputs": [],
   "source": [
    "import jovian"
   ]
  },
  {
   "cell_type": "code",
   "execution_count": 17,
   "metadata": {},
   "outputs": [
    {
     "data": {
      "application/javascript": [
       "window.require && require([\"base/js/namespace\"],function(Jupyter){Jupyter.notebook.save_checkpoint()})"
      ],
      "text/plain": [
       "<IPython.core.display.Javascript object>"
      ]
     },
     "metadata": {},
     "output_type": "display_data"
    },
    {
     "name": "stdout",
     "output_type": "stream",
     "text": [
      "[jovian] Attempting to save notebook..\u001b[0m\n",
      "[jovian] Updating notebook \"nehamalcom/mnist-logistic-regression\" on https://jovian.ai/\u001b[0m\n",
      "[jovian] Uploading notebook..\u001b[0m\n",
      "[jovian] Capturing environment..\u001b[0m\n",
      "[jovian] Committed successfully! https://jovian.ai/nehamalcom/mnist-logistic-regression\u001b[0m\n"
     ]
    },
    {
     "data": {
      "text/plain": [
       "'https://jovian.ai/nehamalcom/mnist-logistic-regression'"
      ]
     },
     "execution_count": 17,
     "metadata": {},
     "output_type": "execute_result"
    }
   ],
   "source": [
    "jovian.commit(project='mnist-logistic-regression')"
   ]
  },
  {
   "cell_type": "markdown",
   "metadata": {},
   "source": [
    "### Model\n",
    "\n",
    "We are going to use a Logistic Regression Model which is similar to a linear regression model. It contains weights and biases and the output is obtained using matrix operations pred = x @ w.t() + b\n",
    "\n",
    "We can use nn.Linear to create the model. As nn.Linear expects each training samples to be a vector, the 1x28x28 image tensor is flattened to a vector of size 784 (28x28) before being passed into the model."
   ]
  },
  {
   "cell_type": "markdown",
   "metadata": {},
   "source": [
    "The output is a vectpr of size 10 with each element signifying the probability of a particular target label i.e. from 0 to 9. The predicted label will be the one with the highest probability."
   ]
  },
  {
   "cell_type": "code",
   "execution_count": 18,
   "metadata": {},
   "outputs": [],
   "source": [
    "import torch.nn as nn\n",
    "input_size=28*28\n",
    "num_classes=10\n",
    "\n",
    "#logistic regression model\n",
    "model=nn.Linear(input_size,num_classes)"
   ]
  },
  {
   "cell_type": "code",
   "execution_count": 19,
   "metadata": {},
   "outputs": [
    {
     "name": "stdout",
     "output_type": "stream",
     "text": [
      "torch.Size([10, 784])\n"
     ]
    },
    {
     "data": {
      "text/plain": [
       "Parameter containing:\n",
       "tensor([[ 0.0348,  0.0160,  0.0145,  ...,  0.0045, -0.0025,  0.0056],\n",
       "        [-0.0135, -0.0136, -0.0357,  ...,  0.0012,  0.0124,  0.0248],\n",
       "        [ 0.0091,  0.0197,  0.0152,  ..., -0.0247, -0.0289,  0.0173],\n",
       "        ...,\n",
       "        [ 0.0328, -0.0094, -0.0196,  ..., -0.0236, -0.0237, -0.0125],\n",
       "        [ 0.0134,  0.0147, -0.0105,  ..., -0.0214, -0.0091, -0.0132],\n",
       "        [ 0.0058,  0.0226,  0.0042,  ...,  0.0059, -0.0190, -0.0164]],\n",
       "       requires_grad=True)"
      ]
     },
     "execution_count": 19,
     "metadata": {},
     "output_type": "execute_result"
    }
   ],
   "source": [
    "print(model.weight.shape)\n",
    "model.weight"
   ]
  },
  {
   "cell_type": "code",
   "execution_count": 20,
   "metadata": {},
   "outputs": [
    {
     "name": "stdout",
     "output_type": "stream",
     "text": [
      "torch.Size([10])\n"
     ]
    },
    {
     "data": {
      "text/plain": [
       "Parameter containing:\n",
       "tensor([-0.0066,  0.0085,  0.0227,  0.0287,  0.0203, -0.0211, -0.0316, -0.0282,\n",
       "         0.0281,  0.0354], requires_grad=True)"
      ]
     },
     "execution_count": 20,
     "metadata": {},
     "output_type": "execute_result"
    }
   ],
   "source": [
    "print(model.bias.shape)\n",
    "model.bias"
   ]
  },
  {
   "cell_type": "markdown",
   "metadata": {},
   "source": [
    "There's aroun 785 parameters here. Let's try and generate outputs using our model. We will take the first batch of 100 images from the dataset and pass them into the model."
   ]
  },
  {
   "cell_type": "code",
   "execution_count": 21,
   "metadata": {},
   "outputs": [
    {
     "name": "stdout",
     "output_type": "stream",
     "text": [
      "tensor([0, 3, 0, 1, 9, 4, 2, 3, 8, 1, 8, 0, 9, 8, 1, 4, 7, 8, 5, 7, 0, 0, 8, 8,\n",
      "        7, 9, 0, 2, 0, 6, 9, 8, 3, 9, 0, 9, 9, 3, 7, 2, 6, 0, 8, 7, 5, 3, 6, 0,\n",
      "        3, 6, 8, 5, 8, 0, 1, 7, 4, 2, 1, 6, 4, 8, 6, 5, 4, 2, 5, 0, 1, 2, 1, 5,\n",
      "        9, 7, 7, 9, 6, 1, 6, 6, 9, 5, 4, 7, 0, 0, 3, 1, 0, 2, 7, 3, 0, 6, 0, 4,\n",
      "        9, 9, 6, 6, 3, 5, 0, 4, 1, 1, 2, 8, 4, 4, 0, 4, 9, 1, 6, 5, 9, 2, 7, 8,\n",
      "        2, 0, 1, 4, 1, 9, 2, 4])\n",
      "torch.Size([128, 1, 28, 28])\n"
     ]
    },
    {
     "ename": "RuntimeError",
     "evalue": "mat1 and mat2 shapes cannot be multiplied (3584x28 and 784x10)",
     "output_type": "error",
     "traceback": [
      "\u001b[0;31m---------------------------------------------------------------------------\u001b[0m",
      "\u001b[0;31mRuntimeError\u001b[0m                              Traceback (most recent call last)",
      "\u001b[0;32m<ipython-input-21-51b80a2b6a77>\u001b[0m in \u001b[0;36m<module>\u001b[0;34m\u001b[0m\n\u001b[1;32m      2\u001b[0m     \u001b[0mprint\u001b[0m\u001b[0;34m(\u001b[0m\u001b[0mlabels\u001b[0m\u001b[0;34m)\u001b[0m\u001b[0;34m\u001b[0m\u001b[0;34m\u001b[0m\u001b[0m\n\u001b[1;32m      3\u001b[0m     \u001b[0mprint\u001b[0m\u001b[0;34m(\u001b[0m\u001b[0mimages\u001b[0m\u001b[0;34m.\u001b[0m\u001b[0mshape\u001b[0m\u001b[0;34m)\u001b[0m\u001b[0;34m\u001b[0m\u001b[0;34m\u001b[0m\u001b[0m\n\u001b[0;32m----> 4\u001b[0;31m     \u001b[0moutputs\u001b[0m\u001b[0;34m=\u001b[0m\u001b[0mmodel\u001b[0m\u001b[0;34m(\u001b[0m\u001b[0mimages\u001b[0m\u001b[0;34m)\u001b[0m\u001b[0;34m\u001b[0m\u001b[0;34m\u001b[0m\u001b[0m\n\u001b[0m\u001b[1;32m      5\u001b[0m     \u001b[0mprint\u001b[0m\u001b[0;34m(\u001b[0m\u001b[0moutputs\u001b[0m\u001b[0;34m)\u001b[0m\u001b[0;34m\u001b[0m\u001b[0;34m\u001b[0m\u001b[0m\n\u001b[1;32m      6\u001b[0m     \u001b[0;32mbreak\u001b[0m\u001b[0;34m\u001b[0m\u001b[0;34m\u001b[0m\u001b[0m\n",
      "\u001b[0;32m~/miniconda3/lib/python3.8/site-packages/torch/nn/modules/module.py\u001b[0m in \u001b[0;36m_call_impl\u001b[0;34m(self, *input, **kwargs)\u001b[0m\n\u001b[1;32m    725\u001b[0m             \u001b[0mresult\u001b[0m \u001b[0;34m=\u001b[0m \u001b[0mself\u001b[0m\u001b[0;34m.\u001b[0m\u001b[0m_slow_forward\u001b[0m\u001b[0;34m(\u001b[0m\u001b[0;34m*\u001b[0m\u001b[0minput\u001b[0m\u001b[0;34m,\u001b[0m \u001b[0;34m**\u001b[0m\u001b[0mkwargs\u001b[0m\u001b[0;34m)\u001b[0m\u001b[0;34m\u001b[0m\u001b[0;34m\u001b[0m\u001b[0m\n\u001b[1;32m    726\u001b[0m         \u001b[0;32melse\u001b[0m\u001b[0;34m:\u001b[0m\u001b[0;34m\u001b[0m\u001b[0;34m\u001b[0m\u001b[0m\n\u001b[0;32m--> 727\u001b[0;31m             \u001b[0mresult\u001b[0m \u001b[0;34m=\u001b[0m \u001b[0mself\u001b[0m\u001b[0;34m.\u001b[0m\u001b[0mforward\u001b[0m\u001b[0;34m(\u001b[0m\u001b[0;34m*\u001b[0m\u001b[0minput\u001b[0m\u001b[0;34m,\u001b[0m \u001b[0;34m**\u001b[0m\u001b[0mkwargs\u001b[0m\u001b[0;34m)\u001b[0m\u001b[0;34m\u001b[0m\u001b[0;34m\u001b[0m\u001b[0m\n\u001b[0m\u001b[1;32m    728\u001b[0m         for hook in itertools.chain(\n\u001b[1;32m    729\u001b[0m                 \u001b[0m_global_forward_hooks\u001b[0m\u001b[0;34m.\u001b[0m\u001b[0mvalues\u001b[0m\u001b[0;34m(\u001b[0m\u001b[0;34m)\u001b[0m\u001b[0;34m,\u001b[0m\u001b[0;34m\u001b[0m\u001b[0;34m\u001b[0m\u001b[0m\n",
      "\u001b[0;32m~/miniconda3/lib/python3.8/site-packages/torch/nn/modules/linear.py\u001b[0m in \u001b[0;36mforward\u001b[0;34m(self, input)\u001b[0m\n\u001b[1;32m     91\u001b[0m \u001b[0;34m\u001b[0m\u001b[0m\n\u001b[1;32m     92\u001b[0m     \u001b[0;32mdef\u001b[0m \u001b[0mforward\u001b[0m\u001b[0;34m(\u001b[0m\u001b[0mself\u001b[0m\u001b[0;34m,\u001b[0m \u001b[0minput\u001b[0m\u001b[0;34m:\u001b[0m \u001b[0mTensor\u001b[0m\u001b[0;34m)\u001b[0m \u001b[0;34m->\u001b[0m \u001b[0mTensor\u001b[0m\u001b[0;34m:\u001b[0m\u001b[0;34m\u001b[0m\u001b[0;34m\u001b[0m\u001b[0m\n\u001b[0;32m---> 93\u001b[0;31m         \u001b[0;32mreturn\u001b[0m \u001b[0mF\u001b[0m\u001b[0;34m.\u001b[0m\u001b[0mlinear\u001b[0m\u001b[0;34m(\u001b[0m\u001b[0minput\u001b[0m\u001b[0;34m,\u001b[0m \u001b[0mself\u001b[0m\u001b[0;34m.\u001b[0m\u001b[0mweight\u001b[0m\u001b[0;34m,\u001b[0m \u001b[0mself\u001b[0m\u001b[0;34m.\u001b[0m\u001b[0mbias\u001b[0m\u001b[0;34m)\u001b[0m\u001b[0;34m\u001b[0m\u001b[0;34m\u001b[0m\u001b[0m\n\u001b[0m\u001b[1;32m     94\u001b[0m \u001b[0;34m\u001b[0m\u001b[0m\n\u001b[1;32m     95\u001b[0m     \u001b[0;32mdef\u001b[0m \u001b[0mextra_repr\u001b[0m\u001b[0;34m(\u001b[0m\u001b[0mself\u001b[0m\u001b[0;34m)\u001b[0m \u001b[0;34m->\u001b[0m \u001b[0mstr\u001b[0m\u001b[0;34m:\u001b[0m\u001b[0;34m\u001b[0m\u001b[0;34m\u001b[0m\u001b[0m\n",
      "\u001b[0;32m~/miniconda3/lib/python3.8/site-packages/torch/nn/functional.py\u001b[0m in \u001b[0;36mlinear\u001b[0;34m(input, weight, bias)\u001b[0m\n\u001b[1;32m   1690\u001b[0m         \u001b[0mret\u001b[0m \u001b[0;34m=\u001b[0m \u001b[0mtorch\u001b[0m\u001b[0;34m.\u001b[0m\u001b[0maddmm\u001b[0m\u001b[0;34m(\u001b[0m\u001b[0mbias\u001b[0m\u001b[0;34m,\u001b[0m \u001b[0minput\u001b[0m\u001b[0;34m,\u001b[0m \u001b[0mweight\u001b[0m\u001b[0;34m.\u001b[0m\u001b[0mt\u001b[0m\u001b[0;34m(\u001b[0m\u001b[0;34m)\u001b[0m\u001b[0;34m)\u001b[0m\u001b[0;34m\u001b[0m\u001b[0;34m\u001b[0m\u001b[0m\n\u001b[1;32m   1691\u001b[0m     \u001b[0;32melse\u001b[0m\u001b[0;34m:\u001b[0m\u001b[0;34m\u001b[0m\u001b[0;34m\u001b[0m\u001b[0m\n\u001b[0;32m-> 1692\u001b[0;31m         \u001b[0moutput\u001b[0m \u001b[0;34m=\u001b[0m \u001b[0minput\u001b[0m\u001b[0;34m.\u001b[0m\u001b[0mmatmul\u001b[0m\u001b[0;34m(\u001b[0m\u001b[0mweight\u001b[0m\u001b[0;34m.\u001b[0m\u001b[0mt\u001b[0m\u001b[0;34m(\u001b[0m\u001b[0;34m)\u001b[0m\u001b[0;34m)\u001b[0m\u001b[0;34m\u001b[0m\u001b[0;34m\u001b[0m\u001b[0m\n\u001b[0m\u001b[1;32m   1693\u001b[0m         \u001b[0;32mif\u001b[0m \u001b[0mbias\u001b[0m \u001b[0;32mis\u001b[0m \u001b[0;32mnot\u001b[0m \u001b[0;32mNone\u001b[0m\u001b[0;34m:\u001b[0m\u001b[0;34m\u001b[0m\u001b[0;34m\u001b[0m\u001b[0m\n\u001b[1;32m   1694\u001b[0m             \u001b[0moutput\u001b[0m \u001b[0;34m+=\u001b[0m \u001b[0mbias\u001b[0m\u001b[0;34m\u001b[0m\u001b[0;34m\u001b[0m\u001b[0m\n",
      "\u001b[0;31mRuntimeError\u001b[0m: mat1 and mat2 shapes cannot be multiplied (3584x28 and 784x10)"
     ]
    }
   ],
   "source": [
    "for images,labels in train_loader:\n",
    "    print(labels)\n",
    "    print(images.shape)\n",
    "    outputs=model(images)\n",
    "    print(outputs)\n",
    "    break"
   ]
  },
  {
   "cell_type": "markdown",
   "metadata": {},
   "source": [
    "The above error is because we have not flattened our 1x28x28 to 28x28 vector yet."
   ]
  },
  {
   "cell_type": "code",
   "execution_count": 22,
   "metadata": {},
   "outputs": [
    {
     "data": {
      "text/plain": [
       "torch.Size([128, 1, 28, 28])"
      ]
     },
     "execution_count": 22,
     "metadata": {},
     "output_type": "execute_result"
    }
   ],
   "source": [
    "images.shape"
   ]
  },
  {
   "cell_type": "code",
   "execution_count": 23,
   "metadata": {},
   "outputs": [
    {
     "data": {
      "text/plain": [
       "torch.Size([128, 784])"
      ]
     },
     "execution_count": 23,
     "metadata": {},
     "output_type": "execute_result"
    }
   ],
   "source": [
    "images.reshape(128,784).shape"
   ]
  },
  {
   "cell_type": "markdown",
   "metadata": {},
   "source": [
    "The .reshape method of a tensor efficiently lets us 'view' each image as a flat vector without creating a copy of the underlying data. Let's extend the nn.Module class from PyTorch to define a custom model."
   ]
  },
  {
   "cell_type": "code",
   "execution_count": 24,
   "metadata": {},
   "outputs": [],
   "source": [
    "class MnistModel(nn.Module):\n",
    "        def __init__(self):\n",
    "            super().__init__()\n",
    "            self.linear=nn.Linear(input_size,num_classes)\n",
    "        def forward(self,xb):\n",
    "            xb=xb.reshape(-1,784)\n",
    "            out=self.linear(xb)\n",
    "            return out\n",
    "\n",
    "model=MnistModel()"
   ]
  },
  {
   "cell_type": "markdown",
   "metadata": {},
   "source": [
    "Understanding the class MnistModel(nn.Module)\n",
    "\n",
    "-in init constructor: instantiate weights and biases using nn.Linear\n",
    "\n",
    "-in forward method: invoked when batch of inputs passed to model, input tensor is flattened and passed to self-linear\n",
    "\n",
    "-xb.reshape indicates to PyTorch that we want a view of xb tensor with 2 dimensions"
   ]
  },
  {
   "cell_type": "markdown",
   "metadata": {},
   "source": [
    "in xb.reshape we gave 01 to let PyTorch figure out automatically based on shape of original tensor."
   ]
  },
  {
   "cell_type": "code",
   "execution_count": 25,
   "metadata": {},
   "outputs": [
    {
     "data": {
      "text/plain": [
       "Linear(in_features=784, out_features=10, bias=True)"
      ]
     },
     "execution_count": 25,
     "metadata": {},
     "output_type": "execute_result"
    }
   ],
   "source": [
    "model.linear"
   ]
  },
  {
   "cell_type": "code",
   "execution_count": 26,
   "metadata": {},
   "outputs": [
    {
     "name": "stdout",
     "output_type": "stream",
     "text": [
      "torch.Size([10, 784]) torch.Size([10])\n"
     ]
    },
    {
     "data": {
      "text/plain": [
       "[Parameter containing:\n",
       " tensor([[ 0.0250, -0.0280,  0.0297,  ..., -0.0126,  0.0101, -0.0152],\n",
       "         [-0.0167, -0.0238, -0.0204,  ...,  0.0274,  0.0123, -0.0107],\n",
       "         [-0.0224,  0.0131,  0.0069,  ...,  0.0076, -0.0315,  0.0136],\n",
       "         ...,\n",
       "         [ 0.0304, -0.0294, -0.0185,  ..., -0.0281, -0.0110,  0.0326],\n",
       "         [-0.0322,  0.0328,  0.0218,  ..., -0.0195,  0.0208,  0.0115],\n",
       "         [-0.0294,  0.0267,  0.0228,  ..., -0.0045, -0.0300,  0.0037]],\n",
       "        requires_grad=True),\n",
       " Parameter containing:\n",
       " tensor([-0.0268, -0.0108, -0.0017, -0.0041,  0.0015,  0.0062,  0.0103,  0.0352,\n",
       "          0.0275, -0.0036], requires_grad=True)]"
      ]
     },
     "execution_count": 26,
     "metadata": {},
     "output_type": "execute_result"
    }
   ],
   "source": [
    "print(model.linear.weight.shape,model.linear.bias.shape)\n",
    "list(model.parameters())"
   ]
  },
  {
   "cell_type": "code",
   "execution_count": 27,
   "metadata": {},
   "outputs": [
    {
     "name": "stdout",
     "output_type": "stream",
     "text": [
      "torch.Size([128, 1, 28, 28])\n",
      "outputs.shape: torch.Size([128, 10])\n",
      "Sample outputs:\n",
      " tensor([[ 0.2912,  0.0287,  0.0643, -0.1243,  0.0335, -0.1205, -0.0895, -0.2215,\n",
      "          0.1661, -0.0344],\n",
      "        [ 0.4564, -0.2161, -0.1777, -0.0116, -0.1473, -0.0706, -0.1632, -0.2098,\n",
      "          0.1352,  0.1626]])\n"
     ]
    }
   ],
   "source": [
    "for images,labels in train_loader:\n",
    "    print(images.shape)\n",
    "    outputs=model(images)\n",
    "    break\n",
    "    \n",
    "print('outputs.shape:',outputs.shape)\n",
    "print('Sample outputs:\\n',outputs[:2].data)"
   ]
  },
  {
   "cell_type": "markdown",
   "metadata": {},
   "source": [
    "For each of the 100 input images, we are getting 10 outputs one for each class (number). Because we want them to represent probabilities, each output row's elements must be between 0 to 1 and add up to 1. \n",
    "\n",
    "This is not what happens here. So to convert these outputs to probabilities, we use softmax function."
   ]
  },
  {
   "attachments": {
    "Screenshot%202021-01-19%20at%2010.38.48%20AM.png": {
     "image/png": "[encoded data removed]"
    }
   },
   "cell_type": "markdown",
   "metadata": {},
   "source": [
    "![Screenshot%202021-01-19%20at%2010.38.48%20AM.png](attachment:Screenshot%202021-01-19%20at%2010.38.48%20AM.png)"
   ]
  },
  {
   "cell_type": "markdown",
   "metadata": {},
   "source": [
    "So here are the steps to use softmax function:\n",
    "\n",
    "    1. Replace each element yi by e^yi\n",
    "    2. Divide them by their sum\n",
    "   \n",
    "This implementation is built in PyTorch"
   ]
  },
  {
   "cell_type": "code",
   "execution_count": 28,
   "metadata": {},
   "outputs": [],
   "source": [
    "import torch.nn.functional as F"
   ]
  },
  {
   "cell_type": "code",
   "execution_count": 29,
   "metadata": {},
   "outputs": [
    {
     "data": {
      "text/plain": [
       "tensor([[ 0.2912,  0.0287,  0.0643, -0.1243,  0.0335, -0.1205, -0.0895, -0.2215,\n",
       "          0.1661, -0.0344],\n",
       "        [ 0.4564, -0.2161, -0.1777, -0.0116, -0.1473, -0.0706, -0.1632, -0.2098,\n",
       "          0.1352,  0.1626]], grad_fn=<SliceBackward>)"
      ]
     },
     "execution_count": 29,
     "metadata": {},
     "output_type": "execute_result"
    }
   ],
   "source": [
    "outputs[:2]"
   ]
  },
  {
   "cell_type": "code",
   "execution_count": 32,
   "metadata": {},
   "outputs": [
    {
     "name": "stdout",
     "output_type": "stream",
     "text": [
      "Sample probabilities:\n",
      " tensor([[0.1325, 0.1019, 0.1056, 0.0874, 0.1024, 0.0878, 0.0905, 0.0793, 0.1169,\n",
      "         0.0957],\n",
      "        [0.1581, 0.0807, 0.0838, 0.0990, 0.0864, 0.0933, 0.0851, 0.0812, 0.1146,\n",
      "         0.1178]])\n",
      "Sum:  1.0\n"
     ]
    }
   ],
   "source": [
    "#softmax for each output row\n",
    "probs=F.softmax(outputs,dim=1)\n",
    "\n",
    "#looking at sample probabilities\n",
    "print(\"Sample probabilities:\\n\",probs[:2].data)\n",
    "\n",
    "#add up probabilities\n",
    "print(\"Sum: \",torch.sum(probs[0]).item())"
   ]
  },
  {
   "cell_type": "markdown",
   "metadata": {},
   "source": [
    "So to predict the final label, we can take the element index of highest element. We can use torch.max for this."
   ]
  },
  {
   "cell_type": "code",
   "execution_count": 33,
   "metadata": {},
   "outputs": [
    {
     "name": "stdout",
     "output_type": "stream",
     "text": [
      "tensor([0, 0, 3, 0, 3, 2, 0, 7, 7, 0, 7, 3, 0, 0, 9, 9, 0, 0, 2, 0, 6, 2, 0, 0,\n",
      "        0, 3, 3, 7, 3, 0, 3, 0, 2, 0, 0, 9, 0, 0, 0, 9, 2, 2, 7, 0, 0, 2, 3, 0,\n",
      "        0, 0, 3, 2, 0, 0, 2, 0, 0, 3, 0, 0, 9, 0, 2, 0, 0, 9, 6, 3, 9, 2, 6, 8,\n",
      "        6, 0, 8, 0, 3, 9, 0, 0, 0, 7, 7, 0, 0, 0, 0, 0, 0, 0, 2, 2, 0, 3, 2, 9,\n",
      "        0, 9, 0, 7, 2, 0, 0, 0, 3, 3, 0, 0, 2, 9, 3, 0, 4, 9, 2, 2, 9, 3, 6, 0,\n",
      "        2, 6, 0, 8, 9, 6, 3, 9])\n",
      "tensor([0.1325, 0.1581, 0.1238, 0.1461, 0.1483, 0.1297, 0.1194, 0.1233, 0.1135,\n",
      "        0.1450, 0.1249, 0.1369, 0.1311, 0.1258, 0.1559, 0.1608, 0.1337, 0.1150,\n",
      "        0.1356, 0.1112, 0.1159, 0.1178, 0.1214, 0.1820, 0.1442, 0.1275, 0.1279,\n",
      "        0.1318, 0.1316, 0.1307, 0.1293, 0.1214, 0.1160, 0.1445, 0.1274, 0.1307,\n",
      "        0.1341, 0.1167, 0.1286, 0.1235, 0.1467, 0.1179, 0.1121, 0.1125, 0.1814,\n",
      "        0.1252, 0.1434, 0.1191, 0.1145, 0.1422, 0.1203, 0.1190, 0.1184, 0.1340,\n",
      "        0.1155, 0.1130, 0.1561, 0.1260, 0.1568, 0.1203, 0.1325, 0.1175, 0.1200,\n",
      "        0.1393, 0.1148, 0.1279, 0.1220, 0.1465, 0.1270, 0.1156, 0.1280, 0.1446,\n",
      "        0.1089, 0.1278, 0.1216, 0.1681, 0.1213, 0.1303, 0.1835, 0.1141, 0.1541,\n",
      "        0.1105, 0.1236, 0.1226, 0.1312, 0.1208, 0.1386, 0.1487, 0.1177, 0.1421,\n",
      "        0.1192, 0.1228, 0.1715, 0.1382, 0.1194, 0.1256, 0.1368, 0.1259, 0.1291,\n",
      "        0.1255, 0.1208, 0.1308, 0.1273, 0.1312, 0.1349, 0.1235, 0.1189, 0.1097,\n",
      "        0.1213, 0.1191, 0.1324, 0.1425, 0.1210, 0.1216, 0.1146, 0.1361, 0.1256,\n",
      "        0.1488, 0.1227, 0.1227, 0.1355, 0.1288, 0.1357, 0.1205, 0.1197, 0.1189,\n",
      "        0.1285, 0.1316], grad_fn=<MaxBackward0>)\n"
     ]
    }
   ],
   "source": [
    "max_probs,preds=torch.max(probs,dim=1)\n",
    "print(preds)\n",
    "print(max_probs)"
   ]
  },
  {
   "cell_type": "markdown",
   "metadata": {},
   "source": [
    "Let's compare with actual labels."
   ]
  },
  {
   "cell_type": "code",
   "execution_count": 34,
   "metadata": {},
   "outputs": [
    {
     "data": {
      "text/plain": [
       "tensor([9, 3, 9, 2, 6, 7, 4, 9, 7, 2, 6, 0, 8, 5, 6, 4, 4, 3, 4, 8, 7, 6, 1, 2,\n",
       "        0, 7, 9, 5, 8, 5, 5, 1, 6, 2, 9, 3, 2, 1, 5, 1, 7, 6, 7, 5, 8, 6, 4, 1,\n",
       "        9, 3, 9, 1, 3, 9, 9, 1, 3, 7, 5, 2, 2, 3, 3, 8, 1, 7, 5, 4, 2, 4, 4, 3,\n",
       "        4, 2, 1, 0, 7, 2, 3, 4, 2, 8, 0, 7, 2, 5, 9, 2, 4, 0, 5, 0, 6, 0, 9, 6,\n",
       "        9, 6, 9, 4, 9, 9, 0, 1, 6, 6, 5, 1, 7, 1, 0, 5, 7, 1, 4, 6, 6, 8, 4, 9,\n",
       "        8, 4, 2, 1, 1, 9, 9, 0])"
      ]
     },
     "execution_count": 34,
     "metadata": {},
     "output_type": "execute_result"
    }
   ],
   "source": [
    "labels"
   ]
  },
  {
   "cell_type": "markdown",
   "metadata": {},
   "source": [
    "Most of it is predicted wrong, that is because we haven't trained our model yet"
   ]
  },
  {
   "cell_type": "markdown",
   "metadata": {},
   "source": [
    "## Evaluation Metric and Loss Function\n",
    "\n",
    "Let's determine accuracy of the predicted labels."
   ]
  },
  {
   "cell_type": "code",
   "execution_count": 35,
   "metadata": {},
   "outputs": [
    {
     "data": {
      "text/plain": [
       "tensor([[ 0.2912,  0.0287,  0.0643, -0.1243,  0.0335, -0.1205, -0.0895, -0.2215,\n",
       "          0.1661, -0.0344],\n",
       "        [ 0.4564, -0.2161, -0.1777, -0.0116, -0.1473, -0.0706, -0.1632, -0.2098,\n",
       "          0.1352,  0.1626]], grad_fn=<SliceBackward>)"
      ]
     },
     "execution_count": 35,
     "metadata": {},
     "output_type": "execute_result"
    }
   ],
   "source": [
    "outputs[:2]\n"
   ]
  },
  {
   "cell_type": "code",
   "execution_count": 36,
   "metadata": {},
   "outputs": [
    {
     "data": {
      "text/plain": [
       "tensor(6)"
      ]
     },
     "execution_count": 36,
     "metadata": {},
     "output_type": "execute_result"
    }
   ],
   "source": [
    "torch.sum(preds==labels)"
   ]
  },
  {
   "cell_type": "markdown",
   "metadata": {},
   "source": [
    "==compares element wise two tensors of same shape and returns True for unequal elements and False for equal elements and torch.sum returns number of labels predicted correctly.\n",
    "\n",
    "We divide by total number of images to get accuracy"
   ]
  },
  {
   "cell_type": "code",
   "execution_count": 40,
   "metadata": {},
   "outputs": [],
   "source": [
    "def accuracy(outputs,labels):\n",
    "    _,preds=torch.max(outputs,dim=1)\n",
    "    return torch.tensor(torch.sum(preds==labels).item()/len(preds))"
   ]
  },
  {
   "cell_type": "code",
   "execution_count": 41,
   "metadata": {},
   "outputs": [
    {
     "data": {
      "text/plain": [
       "tensor(0.0469)"
      ]
     },
     "execution_count": 41,
     "metadata": {},
     "output_type": "execute_result"
    }
   ],
   "source": [
    "accuracy(outputs,labels)"
   ]
  },
  {
   "cell_type": "code",
   "execution_count": 42,
   "metadata": {},
   "outputs": [
    {
     "data": {
      "text/plain": [
       "tensor([[0.1325, 0.1019, 0.1056,  ..., 0.0793, 0.1169, 0.0957],\n",
       "        [0.1581, 0.0807, 0.0838,  ..., 0.0812, 0.1146, 0.1178],\n",
       "        [0.1088, 0.0875, 0.1090,  ..., 0.0906, 0.1019, 0.1102],\n",
       "        ...,\n",
       "        [0.1127, 0.0968, 0.1139,  ..., 0.0896, 0.0905, 0.0867],\n",
       "        [0.1031, 0.0707, 0.1160,  ..., 0.0924, 0.0898, 0.1045],\n",
       "        [0.1097, 0.1025, 0.0938,  ..., 0.1305, 0.0958, 0.1316]],\n",
       "       grad_fn=<SoftmaxBackward>)"
      ]
     },
     "execution_count": 42,
     "metadata": {},
     "output_type": "execute_result"
    }
   ],
   "source": [
    "probs"
   ]
  },
  {
   "cell_type": "markdown",
   "metadata": {},
   "source": [
    "We cannot use accuracy as a loss function to optimize our model using gradient descent, why? Because:\n",
    "    \n",
    "    1. It is not a differentiable function (both torch.max and ==)\n",
    "    2. It does not take into account the actual probabilities by the model so it cannot provide needed feedback for incremental imporvements in gradient descent."
   ]
  },
  {
   "cell_type": "markdown",
   "metadata": {},
   "source": [
    "Thus, accuracy is used as an evaluation metric but not as a loss function.\n",
    "\n",
    "Cross-entropy is a commonly used loss function."
   ]
  },
  {
   "attachments": {
    "Screenshot%202021-01-19%20at%204.31.38%20PM.png": {
     "image/png": "[encoded data removed]"
    }
   },
   "cell_type": "markdown",
   "metadata": {},
   "source": [
    "![Screenshot%202021-01-19%20at%204.31.38%20PM.png](attachment:Screenshot%202021-01-19%20at%204.31.38%20PM.png)"
   ]
  },
  {
   "cell_type": "markdown",
   "metadata": {},
   "source": [
    "The steps are:\n",
    "\n",
    "    1. For each output row, take the predicted probability for the correct label\n",
    "    2. Take log of the picked probability, if it is high (close to 1) then log will be a very small negative value close to 0. If it is low (close to 0) then log is a very large negative value. We can multiply this log value by -1 to make it positive.\n",
    "    3. Take average of the cross entropy across all output rows to get overall loss for a batch of data."
   ]
  },
  {
   "cell_type": "markdown",
   "metadata": {},
   "source": [
    "Cross-entropy is a continuous and non-differentiable function. An implementation of cross-entropy is found in torch.nn.functional package. Also it performs softmax internally so we can directly pass the model outputs without converting them into probabilities."
   ]
  },
  {
   "cell_type": "code",
   "execution_count": 43,
   "metadata": {},
   "outputs": [
    {
     "data": {
      "text/plain": [
       "tensor([[ 0.2912,  0.0287,  0.0643,  ..., -0.2215,  0.1661, -0.0344],\n",
       "        [ 0.4564, -0.2161, -0.1777,  ..., -0.2098,  0.1352,  0.1626],\n",
       "        [ 0.1518, -0.0664,  0.1535,  ..., -0.0306,  0.0868,  0.1647],\n",
       "        ...,\n",
       "        [ 0.2006,  0.0486,  0.2114,  ..., -0.0282, -0.0188, -0.0619],\n",
       "        [ 0.1081, -0.2682,  0.2259,  ..., -0.0012, -0.0295,  0.1215],\n",
       "        [ 0.2461,  0.1783,  0.0898,  ...,  0.4195,  0.1104,  0.4284]],\n",
       "       grad_fn=<AddmmBackward>)"
      ]
     },
     "execution_count": 43,
     "metadata": {},
     "output_type": "execute_result"
    }
   ],
   "source": [
    "outputs\n"
   ]
  },
  {
   "cell_type": "code",
   "execution_count": 44,
   "metadata": {},
   "outputs": [],
   "source": [
    "loss_fn=F.cross_entropy"
   ]
  },
  {
   "cell_type": "code",
   "execution_count": 45,
   "metadata": {},
   "outputs": [
    {
     "name": "stdout",
     "output_type": "stream",
     "text": [
      "tensor(2.3196, grad_fn=<NllLossBackward>)\n"
     ]
    }
   ],
   "source": [
    "#loss for the current data batch\n",
    "loss=loss_fn(outputs,labels)\n",
    "print(loss)"
   ]
  },
  {
   "cell_type": "markdown",
   "metadata": {},
   "source": [
    "Interpreting this loss, e^-2.3196 around 0.1 is the predicted probability of the correct label on average, the lower the loss the better."
   ]
  },
  {
   "cell_type": "markdown",
   "metadata": {},
   "source": [
    "## Training the model\n",
    "\n",
    "Pseudocode:\n",
    "\n",
    "    for epoch in range(num_epochs):\n",
    "        # Training phase\n",
    "        for batch in train_loader:\n",
    "            # generate predictions\n",
    "            # calculate loss\n",
    "            # compute gradients\n",
    "            # update weights\n",
    "            # reset gradients\n",
    "        # Validation phase\n",
    "        for batch in val_loader:\n",
    "            # generate predictions\n",
    "            # calculate loss\n",
    "            # calculate metrics\n",
    "        # calculate average validation loss and metrics\n",
    "        \n",
    "        # log epoch, loss and metrics for inspection"
   ]
  },
  {
   "cell_type": "code",
   "execution_count": 64,
   "metadata": {},
   "outputs": [],
   "source": [
    "def fit(epochs,lr,model,train_loader,val_loader,opt_func=torch.optim.SGD):\n",
    "    optimizer=opt_func(model.parameters(),lr)\n",
    "    history=[] #for recording epoch-wise results\n",
    "    for epoch in range(epochs):\n",
    "            #training phase\n",
    "            for batch in train_loader:\n",
    "                loss=model.training_step(batch)\n",
    "                loss.backward()\n",
    "                optimizer.step()\n",
    "                optimizer.zero_grad()\n",
    "            #validation phase\n",
    "            result=evaluate(model,val_loader)\n",
    "            model.epoch_end(epoch,result)\n",
    "            history.append(result)\n",
    "    return history"
   ]
  },
  {
   "cell_type": "markdown",
   "metadata": {},
   "source": [
    "fit function records the validation loadd and metric from each epoch, returns a history of the training for debugging and visualization.\n",
    "\n",
    "Hyperparameters like batch size, learning rate etc. need to be picked in advance while training machine learning models"
   ]
  },
  {
   "cell_type": "code",
   "execution_count": 65,
   "metadata": {},
   "outputs": [
    {
     "data": {
      "text/plain": [
       "[2, 4, 6, 8, 10]"
      ]
     },
     "execution_count": 65,
     "metadata": {},
     "output_type": "execute_result"
    }
   ],
   "source": [
    "l1=[1,2,3,4,5]\n",
    "l2=[x*2 for x in l1]\n",
    "l2"
   ]
  },
  {
   "cell_type": "code",
   "execution_count": 66,
   "metadata": {},
   "outputs": [],
   "source": [
    "def evaluate(model, val_loader):\n",
    "    outputs = [model.validation_step(batch) for batch in val_loader]\n",
    "    return model.validation_epoch_end(outputs)"
   ]
  },
  {
   "cell_type": "code",
   "execution_count": 67,
   "metadata": {},
   "outputs": [],
   "source": [
    "class MnistModel(nn.Module):\n",
    "    def __init__(self):\n",
    "        super().__init__()\n",
    "        self.linear=nn.Linear(input_size,num_classes)\n",
    "    \n",
    "    def forward(self,xb):\n",
    "        xb=xb.reshape(-1,784)\n",
    "        out=self.linear(xb)\n",
    "        return out\n",
    "    \n",
    "    def training_step(self,batch):\n",
    "        images,labels=batch\n",
    "        out=self(images) #generate predictions\n",
    "        loss=F.cross_entropy(out,labels) #calculate loss\n",
    "        return loss\n",
    "    \n",
    "    def validation_step(self,batch):\n",
    "        images,labels=batch\n",
    "        out=self(images) #generate predictions\n",
    "        loss=F.cross_entropy(out,labels) #calculate loss\n",
    "        acc=accuracy(out,labels) #calculate accuracy\n",
    "        return {'val_loss':loss,'val_acc':acc}\n",
    "    \n",
    "    def validation_epoch_end(self,outputs):\n",
    "        batch_losses=[x['val_loss'] for x in outputs]\n",
    "        epoch_loss=torch.stack(batch_losses).mean() #combine losses\n",
    "        batch_accs=[x['val_acc'] for x in outputs]\n",
    "        epoch_acc=torch.stack(batch_accs).mean()\n",
    "        return {'val_loss': epoch_loss.item(),'val_acc': epoch_acc.item()}\n",
    "    def epoch_end(self,epoch,result):\n",
    "        print(\"Epoch [{}], val_loss: {:.4f}, val_acc: {:.4f}\".format(epoch,result['val_loss'],result['val_acc']))\n",
    "        \n",
    "model=MnistModel()"
   ]
  },
  {
   "cell_type": "code",
   "execution_count": 68,
   "metadata": {},
   "outputs": [
    {
     "data": {
      "text/plain": [
       "{'val_loss': 2.2963130474090576, 'val_acc': 0.11125395447015762}"
      ]
     },
     "execution_count": 68,
     "metadata": {},
     "output_type": "execute_result"
    }
   ],
   "source": [
    "result0=evaluate(model,val_loader)\n",
    "result0"
   ]
  },
  {
   "cell_type": "markdown",
   "metadata": {},
   "source": [
    "Now let us train the model.\n",
    "\n",
    "Let us take number of epochs as 5."
   ]
  },
  {
   "cell_type": "code",
   "execution_count": 69,
   "metadata": {},
   "outputs": [
    {
     "name": "stdout",
     "output_type": "stream",
     "text": [
      "Epoch [0], val_loss: 1.9344, val_acc: 0.6379\n",
      "Epoch [1], val_loss: 1.6703, val_acc: 0.7356\n",
      "Epoch [2], val_loss: 1.4723, val_acc: 0.7726\n",
      "Epoch [3], val_loss: 1.3224, val_acc: 0.7862\n",
      "Epoch [4], val_loss: 1.2071, val_acc: 0.7975\n"
     ]
    }
   ],
   "source": [
    "history1=fit(5,0.001,model,train_loader,val_loader)"
   ]
  },
  {
   "cell_type": "markdown",
   "metadata": {},
   "source": [
    "With just 5 epochs, we have reached accuracy of 79.69%. Let us try improving it by training for few more epochs."
   ]
  },
  {
   "cell_type": "code",
   "execution_count": 70,
   "metadata": {},
   "outputs": [
    {
     "name": "stdout",
     "output_type": "stream",
     "text": [
      "Epoch [0], val_loss: 1.1164, val_acc: 0.8059\n",
      "Epoch [1], val_loss: 1.0436, val_acc: 0.8111\n",
      "Epoch [2], val_loss: 0.9840, val_acc: 0.8170\n",
      "Epoch [3], val_loss: 0.9343, val_acc: 0.8220\n",
      "Epoch [4], val_loss: 0.8922, val_acc: 0.8262\n"
     ]
    }
   ],
   "source": [
    "history2=fit(5,0.001,model,train_loader,val_loader)"
   ]
  },
  {
   "cell_type": "code",
   "execution_count": 71,
   "metadata": {},
   "outputs": [
    {
     "name": "stdout",
     "output_type": "stream",
     "text": [
      "Epoch [0], val_loss: 0.8562, val_acc: 0.8302\n",
      "Epoch [1], val_loss: 0.8250, val_acc: 0.8348\n",
      "Epoch [2], val_loss: 0.7976, val_acc: 0.8383\n",
      "Epoch [3], val_loss: 0.7734, val_acc: 0.8408\n",
      "Epoch [4], val_loss: 0.7518, val_acc: 0.8431\n"
     ]
    }
   ],
   "source": [
    "history3=fit(5,0.001,model,train_loader,val_loader)"
   ]
  },
  {
   "cell_type": "code",
   "execution_count": 72,
   "metadata": {},
   "outputs": [
    {
     "name": "stdout",
     "output_type": "stream",
     "text": [
      "Epoch [0], val_loss: 0.7325, val_acc: 0.8466\n",
      "Epoch [1], val_loss: 0.7150, val_acc: 0.8486\n",
      "Epoch [2], val_loss: 0.6991, val_acc: 0.8503\n",
      "Epoch [3], val_loss: 0.6847, val_acc: 0.8523\n",
      "Epoch [4], val_loss: 0.6714, val_acc: 0.8531\n"
     ]
    }
   ],
   "source": [
    "history4=fit(5,0.001,model,train_loader,val_loader)"
   ]
  },
  {
   "cell_type": "markdown",
   "metadata": {},
   "source": [
    "One can see the accuracy keeps improving but gets smaller and smaller."
   ]
  },
  {
   "cell_type": "code",
   "execution_count": 73,
   "metadata": {},
   "outputs": [
    {
     "data": {
      "image/png": "[encoded data removed]",
      "text/plain": [
       "<Figure size 432x288 with 1 Axes>"
      ]
     },
     "metadata": {
      "needs_background": "light"
     },
     "output_type": "display_data"
    }
   ],
   "source": [
    "history=[result0]+history1+history2+history3+history4\n",
    "accuracies=[result['val_acc'] for result in history]\n",
    "plt.plot(accuracies,'-x')\n",
    "plt.xlabel('epoch')\n",
    "plt.ylabel('accuracy')\n",
    "plt.title('Accuracy vs. No. of epochs');"
   ]
  },
  {
   "cell_type": "markdown",
   "metadata": {},
   "source": [
    "Probable reason for model not being able to reach 90% threshold is that learning rate may be too high, the model's parameters may be bouncing around the optimal set of parameters for the lowest loss. The more likely reason is that the model just isn't powerful enough, we assumed that the output is a linear function of the input (pixel intensities). It is a weak assumption."
   ]
  },
  {
   "cell_type": "code",
   "execution_count": 74,
   "metadata": {},
   "outputs": [
    {
     "name": "stdout",
     "output_type": "stream",
     "text": [
      "[jovian] Metrics logged.\u001b[0m\n"
     ]
    }
   ],
   "source": [
    "jovian.log_metrics(val_acc=history[-1]['val_acc'], val_loss=history[-1]['val_loss'])"
   ]
  },
  {
   "cell_type": "code",
   "execution_count": 75,
   "metadata": {},
   "outputs": [
    {
     "data": {
      "application/javascript": [
       "window.require && require([\"base/js/namespace\"],function(Jupyter){Jupyter.notebook.save_checkpoint()})"
      ],
      "text/plain": [
       "<IPython.core.display.Javascript object>"
      ]
     },
     "metadata": {},
     "output_type": "display_data"
    },
    {
     "name": "stdout",
     "output_type": "stream",
     "text": [
      "[jovian] Attempting to save notebook..\u001b[0m\n",
      "[jovian] Creating a new project \"nehamalcom/03-logistic-regression\"\u001b[0m\n",
      "[jovian] Uploading notebook..\u001b[0m\n",
      "[jovian] Attaching records (metrics, hyperparameters, dataset etc.)\u001b[0m\n",
      "[jovian] Committed successfully! https://jovian.ai/nehamalcom/03-logistic-regression\u001b[0m\n"
     ]
    },
    {
     "data": {
      "text/plain": [
       "'https://jovian.ai/nehamalcom/03-logistic-regression'"
      ]
     },
     "execution_count": 75,
     "metadata": {},
     "output_type": "execute_result"
    }
   ],
   "source": [
    "jovian.commit(project='03-logistic-regression', environment=None)"
   ]
  },
  {
   "cell_type": "markdown",
   "metadata": {},
   "source": [
    "## Testing with individual images\n",
    "\n",
    "Let us take the model's results on some sample images"
   ]
  },
  {
   "cell_type": "code",
   "execution_count": 76,
   "metadata": {},
   "outputs": [],
   "source": [
    "#defining test dataset\n",
    "test_dataset=MNIST(root='data/',train=False,transform=transforms.ToTensor())"
   ]
  },
  {
   "cell_type": "code",
   "execution_count": 77,
   "metadata": {},
   "outputs": [
    {
     "name": "stdout",
     "output_type": "stream",
     "text": [
      "Shape: torch.Size([1, 28, 28])\n",
      "Label: 7\n"
     ]
    },
    {
     "data": {
      "image/png": "[encoded data removed]",
      "text/plain": [
       "<Figure size 432x288 with 1 Axes>"
      ]
     },
     "metadata": {
      "needs_background": "light"
     },
     "output_type": "display_data"
    }
   ],
   "source": [
    "img,label=test_dataset[0]\n",
    "plt.imshow(img[0],cmap='gray')\n",
    "print('Shape:',img.shape)\n",
    "print('Label:',label)"
   ]
  },
  {
   "cell_type": "code",
   "execution_count": 78,
   "metadata": {},
   "outputs": [],
   "source": [
    "def predict_image(img,model):\n",
    "    xb=img.unsqueeze(0)\n",
    "    yb=model(xb)\n",
    "    _,preds=torch.max(yb,dim=1)\n",
    "    return preds[0].item()"
   ]
  },
  {
   "cell_type": "markdown",
   "metadata": {},
   "source": [
    "img.unsqueeze adds another dimension at the beginning of the 1x28x28 tensor, making it a 1x1x28x28 tensor, which the model views as a batch containing a single image."
   ]
  },
  {
   "cell_type": "code",
   "execution_count": 79,
   "metadata": {},
   "outputs": [
    {
     "name": "stdout",
     "output_type": "stream",
     "text": [
      "Label: 7 Predicted: 7\n"
     ]
    },
    {
     "data": {
      "image/png": "[encoded data removed]",
      "text/plain": [
       "<Figure size 432x288 with 1 Axes>"
      ]
     },
     "metadata": {
      "needs_background": "light"
     },
     "output_type": "display_data"
    }
   ],
   "source": [
    "img,label=test_dataset[0]\n",
    "plt.imshow(img[0],cmap='gray')\n",
    "print('Label:',label,'Predicted:',predict_image(img,model))"
   ]
  },
  {
   "cell_type": "code",
   "execution_count": 80,
   "metadata": {},
   "outputs": [
    {
     "name": "stdout",
     "output_type": "stream",
     "text": [
      "Label: 1 Predicted: 1\n"
     ]
    },
    {
     "data": {
      "image/png": "[encoded data removed]",
      "text/plain": [
       "<Figure size 432x288 with 1 Axes>"
      ]
     },
     "metadata": {
      "needs_background": "light"
     },
     "output_type": "display_data"
    }
   ],
   "source": [
    "img,label=test_dataset[5]\n",
    "plt.imshow(img[0],cmap='gray')\n",
    "print('Label:',label,'Predicted:',predict_image(img,model))"
   ]
  },
  {
   "cell_type": "code",
   "execution_count": 81,
   "metadata": {},
   "outputs": [
    {
     "name": "stdout",
     "output_type": "stream",
     "text": [
      "Label: 9 Predicted: 9\n"
     ]
    },
    {
     "data": {
      "image/png": "[encoded data removed]",
      "text/plain": [
       "<Figure size 432x288 with 1 Axes>"
      ]
     },
     "metadata": {
      "needs_background": "light"
     },
     "output_type": "display_data"
    }
   ],
   "source": [
    "img,label=test_dataset[7]\n",
    "plt.imshow(img[0],cmap='gray')\n",
    "print('Label:',label,'Predicted:',predict_image(img,model))"
   ]
  },
  {
   "cell_type": "code",
   "execution_count": 82,
   "metadata": {},
   "outputs": [
    {
     "name": "stdout",
     "output_type": "stream",
     "text": [
      "Label: 6 Predicted: 6\n"
     ]
    },
    {
     "data": {
      "image/png": "[encoded data removed]",
      "text/plain": [
       "<Figure size 432x288 with 1 Axes>"
      ]
     },
     "metadata": {
      "needs_background": "light"
     },
     "output_type": "display_data"
    }
   ],
   "source": [
    "img,label=test_dataset[50]\n",
    "plt.imshow(img[0],cmap='gray')\n",
    "print('Label:',label,'Predicted:',predict_image(img,model))"
   ]
  },
  {
   "cell_type": "code",
   "execution_count": 83,
   "metadata": {},
   "outputs": [
    {
     "name": "stdout",
     "output_type": "stream",
     "text": [
      "Label: 9 Predicted: 9\n"
     ]
    },
    {
     "data": {
      "image/png": "[encoded data removed]",
      "text/plain": [
       "<Figure size 432x288 with 1 Axes>"
      ]
     },
     "metadata": {
      "needs_background": "light"
     },
     "output_type": "display_data"
    }
   ],
   "source": [
    "img,label=test_dataset[16]\n",
    "plt.imshow(img[0],cmap='gray')\n",
    "print('Label:',label,'Predicted:',predict_image(img,model))"
   ]
  },
  {
   "cell_type": "code",
   "execution_count": 87,
   "metadata": {},
   "outputs": [
    {
     "name": "stdout",
     "output_type": "stream",
     "text": [
      "Label: 6 Predicted: 2\n"
     ]
    },
    {
     "data": {
      "image/png": "[encoded data removed]",
      "text/plain": [
       "<Figure size 432x288 with 1 Axes>"
      ]
     },
     "metadata": {
      "needs_background": "light"
     },
     "output_type": "display_data"
    }
   ],
   "source": [
    "img,label=test_dataset[66]\n",
    "plt.imshow(img[0],cmap='gray')\n",
    "print('Label:',label,'Predicted:',predict_image(img,model))"
   ]
  },
  {
   "cell_type": "markdown",
   "metadata": {},
   "source": [
    "Let us look at the overall loss and accuracy of the model on the test set."
   ]
  },
  {
   "cell_type": "code",
   "execution_count": 88,
   "metadata": {},
   "outputs": [
    {
     "data": {
      "text/plain": [
       "{'val_loss': 0.639461874961853, 'val_acc': 0.8617187738418579}"
      ]
     },
     "execution_count": 88,
     "metadata": {},
     "output_type": "execute_result"
    }
   ],
   "source": [
    "test_loader=DataLoader(test_dataset,batch_size=256)\n",
    "result=evaluate(model,test_loader)\n",
    "result"
   ]
  },
  {
   "cell_type": "code",
   "execution_count": 89,
   "metadata": {},
   "outputs": [],
   "source": [
    "torch.save(model.state_dict(), 'mnist-logistic.pth')"
   ]
  },
  {
   "cell_type": "code",
   "execution_count": 91,
   "metadata": {},
   "outputs": [
    {
     "data": {
      "text/plain": [
       "OrderedDict([('linear.weight',\n",
       "              tensor([[-0.0088, -0.0215,  0.0066,  ..., -0.0187, -0.0019, -0.0102],\n",
       "                      [ 0.0319,  0.0161, -0.0253,  ...,  0.0189, -0.0121, -0.0266],\n",
       "                      [ 0.0245,  0.0161, -0.0344,  ...,  0.0342,  0.0117,  0.0063],\n",
       "                      ...,\n",
       "                      [ 0.0266, -0.0066,  0.0080,  ...,  0.0146, -0.0211, -0.0272],\n",
       "                      [-0.0019, -0.0028,  0.0325,  ..., -0.0016,  0.0344,  0.0083],\n",
       "                      [-0.0227, -0.0075,  0.0103,  ..., -0.0108,  0.0301, -0.0142]])),\n",
       "             ('linear.bias',\n",
       "              tensor([-0.0446,  0.0848, -0.0326, -0.0092,  0.0242,  0.0746, -0.0065,  0.0697,\n",
       "                      -0.1108, -0.0188]))])"
      ]
     },
     "execution_count": 91,
     "metadata": {},
     "output_type": "execute_result"
    }
   ],
   "source": [
    "model.state_dict()"
   ]
  },
  {
   "cell_type": "markdown",
   "metadata": {},
   "source": [
    "The .state_dict method returns an OrderedDict containing all the weights and bias matrices mapped to the right attributes of the model."
   ]
  },
  {
   "cell_type": "code",
   "execution_count": 92,
   "metadata": {},
   "outputs": [],
   "source": [
    "model2 = MnistModel()"
   ]
  },
  {
   "cell_type": "code",
   "execution_count": 93,
   "metadata": {},
   "outputs": [
    {
     "data": {
      "text/plain": [
       "OrderedDict([('linear.weight',\n",
       "              tensor([[ 2.0796e-02, -1.3062e-02, -2.9040e-02,  ...,  2.7333e-02,\n",
       "                        3.5695e-02, -1.2552e-02],\n",
       "                      [-1.3484e-02,  2.8197e-02, -3.4194e-02,  ...,  1.7936e-02,\n",
       "                       -9.4047e-03,  2.4176e-02],\n",
       "                      [ 1.1243e-02, -1.9815e-02, -2.0001e-02,  ...,  2.0671e-02,\n",
       "                        2.2972e-02, -2.9805e-02],\n",
       "                      ...,\n",
       "                      [-1.1693e-02, -1.7406e-02,  1.4412e-02,  ..., -1.8358e-02,\n",
       "                       -2.0830e-02,  1.6886e-02],\n",
       "                      [-1.1465e-02,  5.5096e-04, -1.6796e-02,  ..., -2.5653e-03,\n",
       "                       -3.0643e-02,  3.2706e-02],\n",
       "                      [-2.6573e-03,  7.1038e-03, -2.7133e-02,  ..., -1.5177e-02,\n",
       "                       -4.1503e-05, -1.4205e-02]])),\n",
       "             ('linear.bias',\n",
       "              tensor([ 0.0323,  0.0354, -0.0158,  0.0302, -0.0107,  0.0349,  0.0010, -0.0282,\n",
       "                      -0.0191,  0.0099]))])"
      ]
     },
     "execution_count": 93,
     "metadata": {},
     "output_type": "execute_result"
    }
   ],
   "source": [
    "model2.state_dict()"
   ]
  },
  {
   "cell_type": "code",
   "execution_count": 94,
   "metadata": {},
   "outputs": [
    {
     "data": {
      "text/plain": [
       "{'val_loss': 2.3114991188049316, 'val_acc': 0.08320312201976776}"
      ]
     },
     "execution_count": 94,
     "metadata": {},
     "output_type": "execute_result"
    }
   ],
   "source": [
    "evaluate(model2, test_loader)"
   ]
  },
  {
   "cell_type": "code",
   "execution_count": 95,
   "metadata": {},
   "outputs": [
    {
     "data": {
      "text/plain": [
       "OrderedDict([('linear.weight',\n",
       "              tensor([[-0.0088, -0.0215,  0.0066,  ..., -0.0187, -0.0019, -0.0102],\n",
       "                      [ 0.0319,  0.0161, -0.0253,  ...,  0.0189, -0.0121, -0.0266],\n",
       "                      [ 0.0245,  0.0161, -0.0344,  ...,  0.0342,  0.0117,  0.0063],\n",
       "                      ...,\n",
       "                      [ 0.0266, -0.0066,  0.0080,  ...,  0.0146, -0.0211, -0.0272],\n",
       "                      [-0.0019, -0.0028,  0.0325,  ..., -0.0016,  0.0344,  0.0083],\n",
       "                      [-0.0227, -0.0075,  0.0103,  ..., -0.0108,  0.0301, -0.0142]])),\n",
       "             ('linear.bias',\n",
       "              tensor([-0.0446,  0.0848, -0.0326, -0.0092,  0.0242,  0.0746, -0.0065,  0.0697,\n",
       "                      -0.1108, -0.0188]))])"
      ]
     },
     "execution_count": 95,
     "metadata": {},
     "output_type": "execute_result"
    }
   ],
   "source": [
    "model2.load_state_dict(torch.load('mnist-logistic.pth'))\n",
    "model2.state_dict()"
   ]
  },
  {
   "cell_type": "code",
   "execution_count": 96,
   "metadata": {},
   "outputs": [
    {
     "data": {
      "text/plain": [
       "{'val_loss': 0.639461874961853, 'val_acc': 0.8617187738418579}"
      ]
     },
     "execution_count": 96,
     "metadata": {},
     "output_type": "execute_result"
    }
   ],
   "source": [
    "test_loader = DataLoader(test_dataset, batch_size=256)\n",
    "result = evaluate(model2, test_loader)\n",
    "result"
   ]
  },
  {
   "cell_type": "code",
   "execution_count": 97,
   "metadata": {},
   "outputs": [
    {
     "data": {
      "application/javascript": [
       "window.require && require([\"base/js/namespace\"],function(Jupyter){Jupyter.notebook.save_checkpoint()})"
      ],
      "text/plain": [
       "<IPython.core.display.Javascript object>"
      ]
     },
     "metadata": {},
     "output_type": "display_data"
    },
    {
     "name": "stdout",
     "output_type": "stream",
     "text": [
      "[jovian] Attempting to save notebook..\u001b[0m\n",
      "[jovian] Updating notebook \"nehamalcom/03-logistic-regression\" on https://jovian.ai/\u001b[0m\n",
      "[jovian] Uploading notebook..\u001b[0m\n",
      "[jovian] Uploading additional outputs...\u001b[0m\n",
      "[jovian] Attaching records (metrics, hyperparameters, dataset etc.)\u001b[0m\n",
      "[jovian] Committed successfully! https://jovian.ai/nehamalcom/03-logistic-regression\u001b[0m\n"
     ]
    },
    {
     "data": {
      "text/plain": [
       "'https://jovian.ai/nehamalcom/03-logistic-regression'"
      ]
     },
     "execution_count": 97,
     "metadata": {},
     "output_type": "execute_result"
    }
   ],
   "source": [
    "jovian.commit(project='03-logistic-regression', environment=None, outputs=['mnist-logistic.pth'])"
   ]
  },
  {
   "cell_type": "code",
   "execution_count": null,
   "metadata": {},
   "outputs": [],
   "source": []
  }
 ],
 "metadata": {
  "kernelspec": {
   "display_name": "Python 3",
   "language": "python",
   "name": "python3"
  },
  "language_info": {
   "codemirror_mode": {
    "name": "ipython",
    "version": 3
   },
   "file_extension": ".py",
   "mimetype": "text/x-python",
   "name": "python",
   "nbconvert_exporter": "python",
   "pygments_lexer": "ipython3",
   "version": "3.8.3"
  }
 },
 "nbformat": 4,
 "nbformat_minor": 4
}
